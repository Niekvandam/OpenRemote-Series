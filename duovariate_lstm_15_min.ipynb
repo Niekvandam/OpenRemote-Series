{
 "metadata": {
  "language_info": {
   "codemirror_mode": {
    "name": "ipython",
    "version": 3
   },
   "file_extension": ".py",
   "mimetype": "text/x-python",
   "name": "python",
   "nbconvert_exporter": "python",
   "pygments_lexer": "ipython3",
   "version": "3.8.0"
  },
  "orig_nbformat": 2,
  "kernelspec": {
   "name": "python380jvsc74a57bd02fbc2e777c71b3ad65a927b7c1adf8f45ce158b28d79f2f4d54933a8f69a15e3",
   "display_name": "Python 3.8.0 64-bit"
  },
  "metadata": {
   "interpreter": {
    "hash": "2fbc2e777c71b3ad65a927b7c1adf8f45ce158b28d79f2f4d54933a8f69a15e3"
   }
  }
 },
 "nbformat": 4,
 "nbformat_minor": 2,
 "cells": [
  {
   "cell_type": "code",
   "execution_count": 12,
   "metadata": {},
   "outputs": [],
   "source": [
    "import pandas as pd\n",
    "import numpy as np\n",
    "import keras\n",
    "import tensorflow as tf\n",
    "import matplotlib.pyplot as plt\n",
    "from keras.preprocessing.sequence import TimeseriesGenerator\n",
    "from keras.models import Sequential\n",
    "from keras.layers import LSTM, Dense"
   ]
  },
  {
   "cell_type": "code",
   "execution_count": 13,
   "metadata": {},
   "outputs": [],
   "source": [
    "look_back = 8"
   ]
  },
  {
   "cell_type": "code",
   "execution_count": 14,
   "metadata": {},
   "outputs": [
    {
     "output_type": "execute_result",
     "data": {
      "text/plain": [
       "pandas.core.frame.DataFrame"
      ]
     },
     "metadata": {},
     "execution_count": 14
    }
   ],
   "source": [
    "df = pd.read_csv(\"datapoints.csv\", parse_dates=[0])\n",
    "df.set_axis(df['timestamp'], inplace=True)\n",
    "df = df.resample(rule='15T', closed='left', label='left').mean().apply(np.ceil)\n",
    "type(df)"
   ]
  },
  {
   "cell_type": "code",
   "execution_count": 15,
   "metadata": {},
   "outputs": [
    {
     "output_type": "display_data",
     "data": {
      "text/plain": "<Figure size 432x288 with 1 Axes>",
      "image/svg+xml": "<?xml version=\"1.0\" encoding=\"utf-8\" standalone=\"no\"?>\r\n<!DOCTYPE svg PUBLIC \"-//W3C//DTD SVG 1.1//EN\"\r\n  \"http://www.w3.org/Graphics/SVG/1.1/DTD/svg11.dtd\">\r\n<!-- Created with matplotlib (https://matplotlib.org/) -->\r\n<svg height=\"248.518125pt\" version=\"1.1\" viewBox=\"0 0 362.5625 248.518125\" width=\"362.5625pt\" xmlns=\"http://www.w3.org/2000/svg\" xmlns:xlink=\"http://www.w3.org/1999/xlink\">\r\n <metadata>\r\n  <rdf:RDF xmlns:cc=\"http://creativecommons.org/ns#\" xmlns:dc=\"http://purl.org/dc/elements/1.1/\" xmlns:rdf=\"http://www.w3.org/1999/02/22-rdf-syntax-ns#\">\r\n   <cc:Work>\r\n    <dc:type rdf:resource=\"http://purl.org/dc/dcmitype/StillImage\"/>\r\n    <dc:date>2021-05-27T21:32:14.162744</dc:date>\r\n    <dc:format>image/svg+xml</dc:format>\r\n    <dc:creator>\r\n     <cc:Agent>\r\n      <dc:title>Matplotlib v3.3.3, https://matplotlib.org/</dc:title>\r\n     </cc:Agent>\r\n    </dc:creator>\r\n   </cc:Work>\r\n  </rdf:RDF>\r\n </metadata>\r\n <defs>\r\n  <style type=\"text/css\">*{stroke-linecap:butt;stroke-linejoin:round;}</style>\r\n </defs>\r\n <g id=\"figure_1\">\r\n  <g id=\"patch_1\">\r\n   <path d=\"M 0 248.518125 \r\nL 362.5625 248.518125 \r\nL 362.5625 0 \r\nL 0 0 \r\nz\r\n\" style=\"fill:none;\"/>\r\n  </g>\r\n  <g id=\"axes_1\">\r\n   <g id=\"patch_2\">\r\n    <path d=\"M 20.5625 224.64 \r\nL 355.3625 224.64 \r\nL 355.3625 7.2 \r\nL 20.5625 7.2 \r\nz\r\n\" style=\"fill:#ffffff;\"/>\r\n   </g>\r\n   <g id=\"matplotlib.axis_1\">\r\n    <g id=\"xtick_1\">\r\n     <g id=\"line2d_1\">\r\n      <defs>\r\n       <path d=\"M 0 0 \r\nL 0 3.5 \r\n\" id=\"m2173358d54\" style=\"stroke:#000000;stroke-width:0.8;\"/>\r\n      </defs>\r\n      <g>\r\n       <use style=\"stroke:#000000;stroke-width:0.8;\" x=\"77.257089\" xlink:href=\"#m2173358d54\" y=\"224.64\"/>\r\n      </g>\r\n     </g>\r\n     <g id=\"text_1\">\r\n      <!-- 2021-04-11 -->\r\n      <g transform=\"translate(48.199277 239.238437)scale(0.1 -0.1)\">\r\n       <defs>\r\n        <path d=\"M 19.1875 8.296875 \r\nL 53.609375 8.296875 \r\nL 53.609375 0 \r\nL 7.328125 0 \r\nL 7.328125 8.296875 \r\nQ 12.9375 14.109375 22.625 23.890625 \r\nQ 32.328125 33.6875 34.8125 36.53125 \r\nQ 39.546875 41.84375 41.421875 45.53125 \r\nQ 43.3125 49.21875 43.3125 52.78125 \r\nQ 43.3125 58.59375 39.234375 62.25 \r\nQ 35.15625 65.921875 28.609375 65.921875 \r\nQ 23.96875 65.921875 18.8125 64.3125 \r\nQ 13.671875 62.703125 7.8125 59.421875 \r\nL 7.8125 69.390625 \r\nQ 13.765625 71.78125 18.9375 73 \r\nQ 24.125 74.21875 28.421875 74.21875 \r\nQ 39.75 74.21875 46.484375 68.546875 \r\nQ 53.21875 62.890625 53.21875 53.421875 \r\nQ 53.21875 48.921875 51.53125 44.890625 \r\nQ 49.859375 40.875 45.40625 35.40625 \r\nQ 44.1875 33.984375 37.640625 27.21875 \r\nQ 31.109375 20.453125 19.1875 8.296875 \r\nz\r\n\" id=\"DejaVuSans-50\"/>\r\n        <path d=\"M 31.78125 66.40625 \r\nQ 24.171875 66.40625 20.328125 58.90625 \r\nQ 16.5 51.421875 16.5 36.375 \r\nQ 16.5 21.390625 20.328125 13.890625 \r\nQ 24.171875 6.390625 31.78125 6.390625 \r\nQ 39.453125 6.390625 43.28125 13.890625 \r\nQ 47.125 21.390625 47.125 36.375 \r\nQ 47.125 51.421875 43.28125 58.90625 \r\nQ 39.453125 66.40625 31.78125 66.40625 \r\nz\r\nM 31.78125 74.21875 \r\nQ 44.046875 74.21875 50.515625 64.515625 \r\nQ 56.984375 54.828125 56.984375 36.375 \r\nQ 56.984375 17.96875 50.515625 8.265625 \r\nQ 44.046875 -1.421875 31.78125 -1.421875 \r\nQ 19.53125 -1.421875 13.0625 8.265625 \r\nQ 6.59375 17.96875 6.59375 36.375 \r\nQ 6.59375 54.828125 13.0625 64.515625 \r\nQ 19.53125 74.21875 31.78125 74.21875 \r\nz\r\n\" id=\"DejaVuSans-48\"/>\r\n        <path d=\"M 12.40625 8.296875 \r\nL 28.515625 8.296875 \r\nL 28.515625 63.921875 \r\nL 10.984375 60.40625 \r\nL 10.984375 69.390625 \r\nL 28.421875 72.90625 \r\nL 38.28125 72.90625 \r\nL 38.28125 8.296875 \r\nL 54.390625 8.296875 \r\nL 54.390625 0 \r\nL 12.40625 0 \r\nz\r\n\" id=\"DejaVuSans-49\"/>\r\n        <path d=\"M 4.890625 31.390625 \r\nL 31.203125 31.390625 \r\nL 31.203125 23.390625 \r\nL 4.890625 23.390625 \r\nz\r\n\" id=\"DejaVuSans-45\"/>\r\n        <path d=\"M 37.796875 64.3125 \r\nL 12.890625 25.390625 \r\nL 37.796875 25.390625 \r\nz\r\nM 35.203125 72.90625 \r\nL 47.609375 72.90625 \r\nL 47.609375 25.390625 \r\nL 58.015625 25.390625 \r\nL 58.015625 17.1875 \r\nL 47.609375 17.1875 \r\nL 47.609375 0 \r\nL 37.796875 0 \r\nL 37.796875 17.1875 \r\nL 4.890625 17.1875 \r\nL 4.890625 26.703125 \r\nz\r\n\" id=\"DejaVuSans-52\"/>\r\n       </defs>\r\n       <use xlink:href=\"#DejaVuSans-50\"/>\r\n       <use x=\"63.623047\" xlink:href=\"#DejaVuSans-48\"/>\r\n       <use x=\"127.246094\" xlink:href=\"#DejaVuSans-50\"/>\r\n       <use x=\"190.869141\" xlink:href=\"#DejaVuSans-49\"/>\r\n       <use x=\"254.492188\" xlink:href=\"#DejaVuSans-45\"/>\r\n       <use x=\"290.576172\" xlink:href=\"#DejaVuSans-48\"/>\r\n       <use x=\"354.199219\" xlink:href=\"#DejaVuSans-52\"/>\r\n       <use x=\"417.822266\" xlink:href=\"#DejaVuSans-45\"/>\r\n       <use x=\"453.90625\" xlink:href=\"#DejaVuSans-49\"/>\r\n       <use x=\"517.529297\" xlink:href=\"#DejaVuSans-49\"/>\r\n      </g>\r\n     </g>\r\n    </g>\r\n    <g id=\"xtick_2\">\r\n     <g id=\"line2d_2\">\r\n      <g>\r\n       <use style=\"stroke:#000000;stroke-width:0.8;\" x=\"135.812017\" xlink:href=\"#m2173358d54\" y=\"224.64\"/>\r\n      </g>\r\n     </g>\r\n     <g id=\"text_2\">\r\n      <!-- 2021-04-12 -->\r\n      <g transform=\"translate(106.754205 239.238437)scale(0.1 -0.1)\">\r\n       <use xlink:href=\"#DejaVuSans-50\"/>\r\n       <use x=\"63.623047\" xlink:href=\"#DejaVuSans-48\"/>\r\n       <use x=\"127.246094\" xlink:href=\"#DejaVuSans-50\"/>\r\n       <use x=\"190.869141\" xlink:href=\"#DejaVuSans-49\"/>\r\n       <use x=\"254.492188\" xlink:href=\"#DejaVuSans-45\"/>\r\n       <use x=\"290.576172\" xlink:href=\"#DejaVuSans-48\"/>\r\n       <use x=\"354.199219\" xlink:href=\"#DejaVuSans-52\"/>\r\n       <use x=\"417.822266\" xlink:href=\"#DejaVuSans-45\"/>\r\n       <use x=\"453.90625\" xlink:href=\"#DejaVuSans-49\"/>\r\n       <use x=\"517.529297\" xlink:href=\"#DejaVuSans-50\"/>\r\n      </g>\r\n     </g>\r\n    </g>\r\n    <g id=\"xtick_3\">\r\n     <g id=\"line2d_3\">\r\n      <g>\r\n       <use style=\"stroke:#000000;stroke-width:0.8;\" x=\"194.366945\" xlink:href=\"#m2173358d54\" y=\"224.64\"/>\r\n      </g>\r\n     </g>\r\n     <g id=\"text_3\">\r\n      <!-- 2021-04-13 -->\r\n      <g transform=\"translate(165.309133 239.238437)scale(0.1 -0.1)\">\r\n       <defs>\r\n        <path d=\"M 40.578125 39.3125 \r\nQ 47.65625 37.796875 51.625 33 \r\nQ 55.609375 28.21875 55.609375 21.1875 \r\nQ 55.609375 10.40625 48.1875 4.484375 \r\nQ 40.765625 -1.421875 27.09375 -1.421875 \r\nQ 22.515625 -1.421875 17.65625 -0.515625 \r\nQ 12.796875 0.390625 7.625 2.203125 \r\nL 7.625 11.71875 \r\nQ 11.71875 9.328125 16.59375 8.109375 \r\nQ 21.484375 6.890625 26.8125 6.890625 \r\nQ 36.078125 6.890625 40.9375 10.546875 \r\nQ 45.796875 14.203125 45.796875 21.1875 \r\nQ 45.796875 27.640625 41.28125 31.265625 \r\nQ 36.765625 34.90625 28.71875 34.90625 \r\nL 20.21875 34.90625 \r\nL 20.21875 43.015625 \r\nL 29.109375 43.015625 \r\nQ 36.375 43.015625 40.234375 45.921875 \r\nQ 44.09375 48.828125 44.09375 54.296875 \r\nQ 44.09375 59.90625 40.109375 62.90625 \r\nQ 36.140625 65.921875 28.71875 65.921875 \r\nQ 24.65625 65.921875 20.015625 65.03125 \r\nQ 15.375 64.15625 9.8125 62.3125 \r\nL 9.8125 71.09375 \r\nQ 15.4375 72.65625 20.34375 73.4375 \r\nQ 25.25 74.21875 29.59375 74.21875 \r\nQ 40.828125 74.21875 47.359375 69.109375 \r\nQ 53.90625 64.015625 53.90625 55.328125 \r\nQ 53.90625 49.265625 50.4375 45.09375 \r\nQ 46.96875 40.921875 40.578125 39.3125 \r\nz\r\n\" id=\"DejaVuSans-51\"/>\r\n       </defs>\r\n       <use xlink:href=\"#DejaVuSans-50\"/>\r\n       <use x=\"63.623047\" xlink:href=\"#DejaVuSans-48\"/>\r\n       <use x=\"127.246094\" xlink:href=\"#DejaVuSans-50\"/>\r\n       <use x=\"190.869141\" xlink:href=\"#DejaVuSans-49\"/>\r\n       <use x=\"254.492188\" xlink:href=\"#DejaVuSans-45\"/>\r\n       <use x=\"290.576172\" xlink:href=\"#DejaVuSans-48\"/>\r\n       <use x=\"354.199219\" xlink:href=\"#DejaVuSans-52\"/>\r\n       <use x=\"417.822266\" xlink:href=\"#DejaVuSans-45\"/>\r\n       <use x=\"453.90625\" xlink:href=\"#DejaVuSans-49\"/>\r\n       <use x=\"517.529297\" xlink:href=\"#DejaVuSans-51\"/>\r\n      </g>\r\n     </g>\r\n    </g>\r\n    <g id=\"xtick_4\">\r\n     <g id=\"line2d_4\">\r\n      <g>\r\n       <use style=\"stroke:#000000;stroke-width:0.8;\" x=\"252.921873\" xlink:href=\"#m2173358d54\" y=\"224.64\"/>\r\n      </g>\r\n     </g>\r\n     <g id=\"text_4\">\r\n      <!-- 2021-04-14 -->\r\n      <g transform=\"translate(223.864061 239.238437)scale(0.1 -0.1)\">\r\n       <use xlink:href=\"#DejaVuSans-50\"/>\r\n       <use x=\"63.623047\" xlink:href=\"#DejaVuSans-48\"/>\r\n       <use x=\"127.246094\" xlink:href=\"#DejaVuSans-50\"/>\r\n       <use x=\"190.869141\" xlink:href=\"#DejaVuSans-49\"/>\r\n       <use x=\"254.492188\" xlink:href=\"#DejaVuSans-45\"/>\r\n       <use x=\"290.576172\" xlink:href=\"#DejaVuSans-48\"/>\r\n       <use x=\"354.199219\" xlink:href=\"#DejaVuSans-52\"/>\r\n       <use x=\"417.822266\" xlink:href=\"#DejaVuSans-45\"/>\r\n       <use x=\"453.90625\" xlink:href=\"#DejaVuSans-49\"/>\r\n       <use x=\"517.529297\" xlink:href=\"#DejaVuSans-52\"/>\r\n      </g>\r\n     </g>\r\n    </g>\r\n    <g id=\"xtick_5\">\r\n     <g id=\"line2d_5\">\r\n      <g>\r\n       <use style=\"stroke:#000000;stroke-width:0.8;\" x=\"311.476801\" xlink:href=\"#m2173358d54\" y=\"224.64\"/>\r\n      </g>\r\n     </g>\r\n     <g id=\"text_5\">\r\n      <!-- 2021-04-15 -->\r\n      <g transform=\"translate(282.418989 239.238437)scale(0.1 -0.1)\">\r\n       <defs>\r\n        <path d=\"M 10.796875 72.90625 \r\nL 49.515625 72.90625 \r\nL 49.515625 64.59375 \r\nL 19.828125 64.59375 \r\nL 19.828125 46.734375 \r\nQ 21.96875 47.46875 24.109375 47.828125 \r\nQ 26.265625 48.1875 28.421875 48.1875 \r\nQ 40.625 48.1875 47.75 41.5 \r\nQ 54.890625 34.8125 54.890625 23.390625 \r\nQ 54.890625 11.625 47.5625 5.09375 \r\nQ 40.234375 -1.421875 26.90625 -1.421875 \r\nQ 22.3125 -1.421875 17.546875 -0.640625 \r\nQ 12.796875 0.140625 7.71875 1.703125 \r\nL 7.71875 11.625 \r\nQ 12.109375 9.234375 16.796875 8.0625 \r\nQ 21.484375 6.890625 26.703125 6.890625 \r\nQ 35.15625 6.890625 40.078125 11.328125 \r\nQ 45.015625 15.765625 45.015625 23.390625 \r\nQ 45.015625 31 40.078125 35.4375 \r\nQ 35.15625 39.890625 26.703125 39.890625 \r\nQ 22.75 39.890625 18.8125 39.015625 \r\nQ 14.890625 38.140625 10.796875 36.28125 \r\nz\r\n\" id=\"DejaVuSans-53\"/>\r\n       </defs>\r\n       <use xlink:href=\"#DejaVuSans-50\"/>\r\n       <use x=\"63.623047\" xlink:href=\"#DejaVuSans-48\"/>\r\n       <use x=\"127.246094\" xlink:href=\"#DejaVuSans-50\"/>\r\n       <use x=\"190.869141\" xlink:href=\"#DejaVuSans-49\"/>\r\n       <use x=\"254.492188\" xlink:href=\"#DejaVuSans-45\"/>\r\n       <use x=\"290.576172\" xlink:href=\"#DejaVuSans-48\"/>\r\n       <use x=\"354.199219\" xlink:href=\"#DejaVuSans-52\"/>\r\n       <use x=\"417.822266\" xlink:href=\"#DejaVuSans-45\"/>\r\n       <use x=\"453.90625\" xlink:href=\"#DejaVuSans-49\"/>\r\n       <use x=\"517.529297\" xlink:href=\"#DejaVuSans-53\"/>\r\n      </g>\r\n     </g>\r\n    </g>\r\n   </g>\r\n   <g id=\"matplotlib.axis_2\">\r\n    <g id=\"ytick_1\">\r\n     <g id=\"line2d_6\">\r\n      <defs>\r\n       <path d=\"M 0 0 \r\nL -3.5 0 \r\n\" id=\"m9cbe7b8893\" style=\"stroke:#000000;stroke-width:0.8;\"/>\r\n      </defs>\r\n      <g>\r\n       <use style=\"stroke:#000000;stroke-width:0.8;\" x=\"20.5625\" xlink:href=\"#m9cbe7b8893\" y=\"214.756364\"/>\r\n      </g>\r\n     </g>\r\n     <g id=\"text_6\">\r\n      <!-- 2 -->\r\n      <g transform=\"translate(7.2 218.555582)scale(0.1 -0.1)\">\r\n       <use xlink:href=\"#DejaVuSans-50\"/>\r\n      </g>\r\n     </g>\r\n    </g>\r\n    <g id=\"ytick_2\">\r\n     <g id=\"line2d_7\">\r\n      <g>\r\n       <use style=\"stroke:#000000;stroke-width:0.8;\" x=\"20.5625\" xlink:href=\"#m9cbe7b8893\" y=\"186.517403\"/>\r\n      </g>\r\n     </g>\r\n     <g id=\"text_7\">\r\n      <!-- 3 -->\r\n      <g transform=\"translate(7.2 190.316621)scale(0.1 -0.1)\">\r\n       <use xlink:href=\"#DejaVuSans-51\"/>\r\n      </g>\r\n     </g>\r\n    </g>\r\n    <g id=\"ytick_3\">\r\n     <g id=\"line2d_8\">\r\n      <g>\r\n       <use style=\"stroke:#000000;stroke-width:0.8;\" x=\"20.5625\" xlink:href=\"#m9cbe7b8893\" y=\"158.278442\"/>\r\n      </g>\r\n     </g>\r\n     <g id=\"text_8\">\r\n      <!-- 4 -->\r\n      <g transform=\"translate(7.2 162.07766)scale(0.1 -0.1)\">\r\n       <use xlink:href=\"#DejaVuSans-52\"/>\r\n      </g>\r\n     </g>\r\n    </g>\r\n    <g id=\"ytick_4\">\r\n     <g id=\"line2d_9\">\r\n      <g>\r\n       <use style=\"stroke:#000000;stroke-width:0.8;\" x=\"20.5625\" xlink:href=\"#m9cbe7b8893\" y=\"130.039481\"/>\r\n      </g>\r\n     </g>\r\n     <g id=\"text_9\">\r\n      <!-- 5 -->\r\n      <g transform=\"translate(7.2 133.838699)scale(0.1 -0.1)\">\r\n       <use xlink:href=\"#DejaVuSans-53\"/>\r\n      </g>\r\n     </g>\r\n    </g>\r\n    <g id=\"ytick_5\">\r\n     <g id=\"line2d_10\">\r\n      <g>\r\n       <use style=\"stroke:#000000;stroke-width:0.8;\" x=\"20.5625\" xlink:href=\"#m9cbe7b8893\" y=\"101.800519\"/>\r\n      </g>\r\n     </g>\r\n     <g id=\"text_10\">\r\n      <!-- 6 -->\r\n      <g transform=\"translate(7.2 105.599738)scale(0.1 -0.1)\">\r\n       <defs>\r\n        <path d=\"M 33.015625 40.375 \r\nQ 26.375 40.375 22.484375 35.828125 \r\nQ 18.609375 31.296875 18.609375 23.390625 \r\nQ 18.609375 15.53125 22.484375 10.953125 \r\nQ 26.375 6.390625 33.015625 6.390625 \r\nQ 39.65625 6.390625 43.53125 10.953125 \r\nQ 47.40625 15.53125 47.40625 23.390625 \r\nQ 47.40625 31.296875 43.53125 35.828125 \r\nQ 39.65625 40.375 33.015625 40.375 \r\nz\r\nM 52.59375 71.296875 \r\nL 52.59375 62.3125 \r\nQ 48.875 64.0625 45.09375 64.984375 \r\nQ 41.3125 65.921875 37.59375 65.921875 \r\nQ 27.828125 65.921875 22.671875 59.328125 \r\nQ 17.53125 52.734375 16.796875 39.40625 \r\nQ 19.671875 43.65625 24.015625 45.921875 \r\nQ 28.375 48.1875 33.59375 48.1875 \r\nQ 44.578125 48.1875 50.953125 41.515625 \r\nQ 57.328125 34.859375 57.328125 23.390625 \r\nQ 57.328125 12.15625 50.6875 5.359375 \r\nQ 44.046875 -1.421875 33.015625 -1.421875 \r\nQ 20.359375 -1.421875 13.671875 8.265625 \r\nQ 6.984375 17.96875 6.984375 36.375 \r\nQ 6.984375 53.65625 15.1875 63.9375 \r\nQ 23.390625 74.21875 37.203125 74.21875 \r\nQ 40.921875 74.21875 44.703125 73.484375 \r\nQ 48.484375 72.75 52.59375 71.296875 \r\nz\r\n\" id=\"DejaVuSans-54\"/>\r\n       </defs>\r\n       <use xlink:href=\"#DejaVuSans-54\"/>\r\n      </g>\r\n     </g>\r\n    </g>\r\n    <g id=\"ytick_6\">\r\n     <g id=\"line2d_11\">\r\n      <g>\r\n       <use style=\"stroke:#000000;stroke-width:0.8;\" x=\"20.5625\" xlink:href=\"#m9cbe7b8893\" y=\"73.561558\"/>\r\n      </g>\r\n     </g>\r\n     <g id=\"text_11\">\r\n      <!-- 7 -->\r\n      <g transform=\"translate(7.2 77.360777)scale(0.1 -0.1)\">\r\n       <defs>\r\n        <path d=\"M 8.203125 72.90625 \r\nL 55.078125 72.90625 \r\nL 55.078125 68.703125 \r\nL 28.609375 0 \r\nL 18.3125 0 \r\nL 43.21875 64.59375 \r\nL 8.203125 64.59375 \r\nz\r\n\" id=\"DejaVuSans-55\"/>\r\n       </defs>\r\n       <use xlink:href=\"#DejaVuSans-55\"/>\r\n      </g>\r\n     </g>\r\n    </g>\r\n    <g id=\"ytick_7\">\r\n     <g id=\"line2d_12\">\r\n      <g>\r\n       <use style=\"stroke:#000000;stroke-width:0.8;\" x=\"20.5625\" xlink:href=\"#m9cbe7b8893\" y=\"45.322597\"/>\r\n      </g>\r\n     </g>\r\n     <g id=\"text_12\">\r\n      <!-- 8 -->\r\n      <g transform=\"translate(7.2 49.121816)scale(0.1 -0.1)\">\r\n       <defs>\r\n        <path d=\"M 31.78125 34.625 \r\nQ 24.75 34.625 20.71875 30.859375 \r\nQ 16.703125 27.09375 16.703125 20.515625 \r\nQ 16.703125 13.921875 20.71875 10.15625 \r\nQ 24.75 6.390625 31.78125 6.390625 \r\nQ 38.8125 6.390625 42.859375 10.171875 \r\nQ 46.921875 13.96875 46.921875 20.515625 \r\nQ 46.921875 27.09375 42.890625 30.859375 \r\nQ 38.875 34.625 31.78125 34.625 \r\nz\r\nM 21.921875 38.8125 \r\nQ 15.578125 40.375 12.03125 44.71875 \r\nQ 8.5 49.078125 8.5 55.328125 \r\nQ 8.5 64.0625 14.71875 69.140625 \r\nQ 20.953125 74.21875 31.78125 74.21875 \r\nQ 42.671875 74.21875 48.875 69.140625 \r\nQ 55.078125 64.0625 55.078125 55.328125 \r\nQ 55.078125 49.078125 51.53125 44.71875 \r\nQ 48 40.375 41.703125 38.8125 \r\nQ 48.828125 37.15625 52.796875 32.3125 \r\nQ 56.78125 27.484375 56.78125 20.515625 \r\nQ 56.78125 9.90625 50.3125 4.234375 \r\nQ 43.84375 -1.421875 31.78125 -1.421875 \r\nQ 19.734375 -1.421875 13.25 4.234375 \r\nQ 6.78125 9.90625 6.78125 20.515625 \r\nQ 6.78125 27.484375 10.78125 32.3125 \r\nQ 14.796875 37.15625 21.921875 38.8125 \r\nz\r\nM 18.3125 54.390625 \r\nQ 18.3125 48.734375 21.84375 45.5625 \r\nQ 25.390625 42.390625 31.78125 42.390625 \r\nQ 38.140625 42.390625 41.71875 45.5625 \r\nQ 45.3125 48.734375 45.3125 54.390625 \r\nQ 45.3125 60.0625 41.71875 63.234375 \r\nQ 38.140625 66.40625 31.78125 66.40625 \r\nQ 25.390625 66.40625 21.84375 63.234375 \r\nQ 18.3125 60.0625 18.3125 54.390625 \r\nz\r\n\" id=\"DejaVuSans-56\"/>\r\n       </defs>\r\n       <use xlink:href=\"#DejaVuSans-56\"/>\r\n      </g>\r\n     </g>\r\n    </g>\r\n    <g id=\"ytick_8\">\r\n     <g id=\"line2d_13\">\r\n      <g>\r\n       <use style=\"stroke:#000000;stroke-width:0.8;\" x=\"20.5625\" xlink:href=\"#m9cbe7b8893\" y=\"17.083636\"/>\r\n      </g>\r\n     </g>\r\n     <g id=\"text_13\">\r\n      <!-- 9 -->\r\n      <g transform=\"translate(7.2 20.882855)scale(0.1 -0.1)\">\r\n       <defs>\r\n        <path d=\"M 10.984375 1.515625 \r\nL 10.984375 10.5 \r\nQ 14.703125 8.734375 18.5 7.8125 \r\nQ 22.3125 6.890625 25.984375 6.890625 \r\nQ 35.75 6.890625 40.890625 13.453125 \r\nQ 46.046875 20.015625 46.78125 33.40625 \r\nQ 43.953125 29.203125 39.59375 26.953125 \r\nQ 35.25 24.703125 29.984375 24.703125 \r\nQ 19.046875 24.703125 12.671875 31.3125 \r\nQ 6.296875 37.9375 6.296875 49.421875 \r\nQ 6.296875 60.640625 12.9375 67.421875 \r\nQ 19.578125 74.21875 30.609375 74.21875 \r\nQ 43.265625 74.21875 49.921875 64.515625 \r\nQ 56.59375 54.828125 56.59375 36.375 \r\nQ 56.59375 19.140625 48.40625 8.859375 \r\nQ 40.234375 -1.421875 26.421875 -1.421875 \r\nQ 22.703125 -1.421875 18.890625 -0.6875 \r\nQ 15.09375 0.046875 10.984375 1.515625 \r\nz\r\nM 30.609375 32.421875 \r\nQ 37.25 32.421875 41.125 36.953125 \r\nQ 45.015625 41.5 45.015625 49.421875 \r\nQ 45.015625 57.28125 41.125 61.84375 \r\nQ 37.25 66.40625 30.609375 66.40625 \r\nQ 23.96875 66.40625 20.09375 61.84375 \r\nQ 16.21875 57.28125 16.21875 49.421875 \r\nQ 16.21875 41.5 20.09375 36.953125 \r\nQ 23.96875 32.421875 30.609375 32.421875 \r\nz\r\n\" id=\"DejaVuSans-57\"/>\r\n       </defs>\r\n       <use xlink:href=\"#DejaVuSans-57\"/>\r\n      </g>\r\n     </g>\r\n    </g>\r\n   </g>\r\n   <g id=\"line2d_14\">\r\n    <path clip-path=\"url(#pa148d92e75)\" d=\"M 35.780682 186.517403 \r\nL 40.050312 186.517403 \r\nL 40.660259 214.756364 \r\nL 41.270206 214.756364 \r\nL 41.880153 186.517403 \r\nL 46.149784 186.517403 \r\nL 46.759731 158.278442 \r\nL 49.199519 158.278442 \r\nL 49.809467 130.039481 \r\nL 50.419414 130.039481 \r\nL 51.029361 73.561558 \r\nL 51.639308 73.561558 \r\nL 52.249255 45.322597 \r\nL 53.46915 45.322597 \r\nL 54.079097 73.561558 \r\nL 54.689044 45.322597 \r\nL 56.518885 45.322597 \r\nL 57.128833 73.561558 \r\nL 59.568621 73.561558 \r\nL 60.178569 101.800519 \r\nL 62.00841 101.800519 \r\nL 62.618357 73.561558 \r\nL 66.887987 73.561558 \r\nL 67.497935 101.800519 \r\nL 68.107882 101.800519 \r\nL 68.717829 73.561558 \r\nL 69.937723 73.561558 \r\nL 70.54767 101.800519 \r\nL 71.157618 101.800519 \r\nL 72.377512 158.278442 \r\nL 72.987459 130.039481 \r\nL 73.597406 130.039481 \r\nL 74.207353 158.278442 \r\nL 74.817301 130.039481 \r\nL 78.476984 130.039481 \r\nL 79.086931 158.278442 \r\nL 93.115716 158.278442 \r\nL 93.725663 130.039481 \r\nL 94.33561 158.278442 \r\nL 94.945557 158.278442 \r\nL 95.555504 130.039481 \r\nL 97.385346 130.039481 \r\nL 97.995293 158.278442 \r\nL 98.60524 130.039481 \r\nL 99.215187 130.039481 \r\nL 99.825134 158.278442 \r\nL 100.435082 130.039481 \r\nL 102.264923 130.039481 \r\nL 102.87487 158.278442 \r\nL 103.484817 158.278442 \r\nL 104.094765 130.039481 \r\nL 104.704712 158.278442 \r\nL 105.314659 130.039481 \r\nL 105.924606 130.039481 \r\nL 106.534553 101.800519 \r\nL 107.1445 101.800519 \r\nL 108.364395 158.278442 \r\nL 108.974342 158.278442 \r\nL 109.584289 130.039481 \r\nL 110.194236 130.039481 \r\nL 110.804183 158.278442 \r\nL 112.024078 101.800519 \r\nL 112.634025 130.039481 \r\nL 113.243972 101.800519 \r\nL 113.853919 101.800519 \r\nL 114.463866 73.561558 \r\nL 115.073814 73.561558 \r\nL 115.683761 101.800519 \r\nL 116.903655 45.322597 \r\nL 117.513602 101.800519 \r\nL 119.343444 101.800519 \r\nL 119.953391 130.039481 \r\nL 120.563338 73.561558 \r\nL 121.173285 101.800519 \r\nL 123.613074 101.800519 \r\nL 124.832968 158.278442 \r\nL 129.712546 158.278442 \r\nL 130.322493 186.517403 \r\nL 140.691595 186.517403 \r\nL 141.301542 158.278442 \r\nL 151.670644 158.278442 \r\nL 153.500485 73.561558 \r\nL 155.940274 73.561558 \r\nL 156.550221 101.800519 \r\nL 157.160168 101.800519 \r\nL 157.770115 73.561558 \r\nL 158.99001 73.561558 \r\nL 159.599957 101.800519 \r\nL 160.209904 73.561558 \r\nL 162.039745 73.561558 \r\nL 162.649693 101.800519 \r\nL 164.479534 101.800519 \r\nL 165.089481 73.561558 \r\nL 168.139217 73.561558 \r\nL 168.749164 101.800519 \r\nL 169.969059 101.800519 \r\nL 170.579006 73.561558 \r\nL 171.188953 73.561558 \r\nL 171.7989 101.800519 \r\nL 172.408847 73.561558 \r\nL 173.018794 73.561558 \r\nL 173.628742 101.800519 \r\nL 174.238689 101.800519 \r\nL 174.848636 130.039481 \r\nL 175.458583 101.800519 \r\nL 177.288425 101.800519 \r\nL 178.508319 158.278442 \r\nL 180.948108 158.278442 \r\nL 181.558055 186.517403 \r\nL 182.168002 158.278442 \r\nL 182.777949 186.517403 \r\nL 183.387896 158.278442 \r\nL 183.997843 186.517403 \r\nL 188.267474 186.517403 \r\nL 188.877421 214.756364 \r\nL 189.487368 186.517403 \r\nL 190.097315 214.756364 \r\nL 190.707262 186.517403 \r\nL 191.317209 214.756364 \r\nL 192.537104 214.756364 \r\nL 193.147051 186.517403 \r\nL 193.756998 214.756364 \r\nL 199.246523 214.756364 \r\nL 199.85647 186.517403 \r\nL 207.175836 186.517403 \r\nL 207.785783 158.278442 \r\nL 208.39573 186.517403 \r\nL 209.005677 158.278442 \r\nL 209.615624 186.517403 \r\nL 210.835519 130.039481 \r\nL 212.055413 130.039481 \r\nL 212.66536 158.278442 \r\nL 213.275307 130.039481 \r\nL 214.495202 130.039481 \r\nL 215.105149 101.800519 \r\nL 216.325043 101.800519 \r\nL 216.93499 73.561558 \r\nL 221.204621 73.561558 \r\nL 221.814568 101.800519 \r\nL 222.424515 73.561558 \r\nL 223.644409 73.561558 \r\nL 224.254356 45.322597 \r\nL 224.864304 73.561558 \r\nL 229.133934 73.561558 \r\nL 230.963775 158.278442 \r\nL 231.573722 130.039481 \r\nL 232.18367 158.278442 \r\nL 232.793617 158.278442 \r\nL 233.403564 186.517403 \r\nL 234.623458 130.039481 \r\nL 235.843353 130.039481 \r\nL 236.4533 158.278442 \r\nL 237.673194 158.278442 \r\nL 238.283141 186.517403 \r\nL 238.893088 186.517403 \r\nL 239.503036 158.278442 \r\nL 240.72293 214.756364 \r\nL 241.332877 214.756364 \r\nL 241.942824 186.517403 \r\nL 244.99256 186.517403 \r\nL 245.602507 158.278442 \r\nL 246.212454 186.517403 \r\nL 247.432349 186.517403 \r\nL 248.042296 214.756364 \r\nL 257.801451 214.756364 \r\nL 258.411398 186.517403 \r\nL 265.730764 186.517403 \r\nL 266.340711 158.278442 \r\nL 268.170552 158.278442 \r\nL 268.7805 186.517403 \r\nL 269.390447 130.039481 \r\nL 270.610341 73.561558 \r\nL 271.220288 73.561558 \r\nL 271.830235 101.800519 \r\nL 274.270024 101.800519 \r\nL 274.879971 73.561558 \r\nL 276.099866 73.561558 \r\nL 276.709813 45.322597 \r\nL 277.31976 45.322597 \r\nL 277.929707 73.561558 \r\nL 278.539654 73.561558 \r\nL 279.149601 45.322597 \r\nL 279.759549 73.561558 \r\nL 280.369496 45.322597 \r\nL 280.979443 73.561558 \r\nL 281.58939 73.561558 \r\nL 282.199337 45.322597 \r\nL 283.419232 45.322597 \r\nL 284.029179 73.561558 \r\nL 284.639126 73.561558 \r\nL 285.249073 45.322597 \r\nL 287.688862 45.322597 \r\nL 288.908756 101.800519 \r\nL 290.12865 101.800519 \r\nL 290.738598 158.278442 \r\nL 292.568439 158.278442 \r\nL 293.178386 186.517403 \r\nL 294.398281 130.039481 \r\nL 295.618175 130.039481 \r\nL 296.228122 158.278442 \r\nL 296.838069 130.039481 \r\nL 299.277858 130.039481 \r\nL 299.887805 158.278442 \r\nL 301.107699 101.800519 \r\nL 302.327594 101.800519 \r\nL 302.937541 130.039481 \r\nL 303.547488 130.039481 \r\nL 304.157435 101.800519 \r\nL 305.37733 158.278442 \r\nL 313.306643 158.278442 \r\nL 313.91659 186.517403 \r\nL 314.526537 158.278442 \r\nL 315.136484 186.517403 \r\nL 316.356379 186.517403 \r\nL 316.966326 158.278442 \r\nL 326.725481 158.278442 \r\nL 327.335428 130.039481 \r\nL 327.945375 73.561558 \r\nL 328.555322 45.322597 \r\nL 329.775216 45.322597 \r\nL 330.385164 73.561558 \r\nL 330.995111 73.561558 \r\nL 331.605058 45.322597 \r\nL 332.215005 73.561558 \r\nL 333.434899 17.083636 \r\nL 334.044847 45.322597 \r\nL 334.654794 17.083636 \r\nL 337.094582 17.083636 \r\nL 337.70453 45.322597 \r\nL 339.534371 45.322597 \r\nL 340.144318 73.561558 \r\nL 340.144318 73.561558 \r\n\" style=\"fill:none;stroke:#1f77b4;stroke-linecap:square;stroke-width:1.5;\"/>\r\n   </g>\r\n   <g id=\"patch_3\">\r\n    <path d=\"M 20.5625 224.64 \r\nL 20.5625 7.2 \r\n\" style=\"fill:none;stroke:#000000;stroke-linecap:square;stroke-linejoin:miter;stroke-width:0.8;\"/>\r\n   </g>\r\n   <g id=\"patch_4\">\r\n    <path d=\"M 355.3625 224.64 \r\nL 355.3625 7.2 \r\n\" style=\"fill:none;stroke:#000000;stroke-linecap:square;stroke-linejoin:miter;stroke-width:0.8;\"/>\r\n   </g>\r\n   <g id=\"patch_5\">\r\n    <path d=\"M 20.5625 224.64 \r\nL 355.3625 224.64 \r\n\" style=\"fill:none;stroke:#000000;stroke-linecap:square;stroke-linejoin:miter;stroke-width:0.8;\"/>\r\n   </g>\r\n   <g id=\"patch_6\">\r\n    <path d=\"M 20.5625 7.2 \r\nL 355.3625 7.2 \r\n\" style=\"fill:none;stroke:#000000;stroke-linecap:square;stroke-linejoin:miter;stroke-width:0.8;\"/>\r\n   </g>\r\n  </g>\r\n </g>\r\n <defs>\r\n  <clipPath id=\"pa148d92e75\">\r\n   <rect height=\"217.44\" width=\"334.8\" x=\"20.5625\" y=\"7.2\"/>\r\n  </clipPath>\r\n </defs>\r\n</svg>\r\n",
      "image/png": "[encoded data removed]"
     },
     "metadata": {
      "needs_background": "light"
     }
    }
   ],
   "source": [
    "plt.plot(df[\"value\"][500:1000])\n",
    "plt.show()"
   ]
  },
  {
   "cell_type": "code",
   "execution_count": 16,
   "metadata": {},
   "outputs": [],
   "source": [
    "\n",
    "df[\"timestamp\"] = df.index\n",
    "df[\"value\"] = df[\"value\"].replace(np.nan, 0)\n",
    "\n",
    "parking_data = df[\"value\"].values\n",
    "parking_data = parking_data.reshape((-1,1))\n",
    "\n",
    "split_percent = 0.80\n",
    "split = int(split_percent*len(parking_data))\n",
    "\n",
    "parking_train = parking_data[:split]\n",
    "parking_test = parking_data[split:]\n",
    "\n",
    "date_train = df[\"timestamp\"][:split]\n",
    "date_test = df[\"timestamp\"][split:]\n",
    "\n",
    "\n",
    "\n"
   ]
  },
  {
   "cell_type": "code",
   "execution_count": 23,
   "metadata": {},
   "outputs": [
    {
     "output_type": "stream",
     "name": "stdout",
     "text": [
      "7.0\n7.0\n7.0\n7.0\n7.0\n7.0\n7.0\n7.0\n6.0\n6.0\n6.0\n7.0\n7.0\n7.0\n7.0\n6.0\n7.0\n7.0\n7.0\n7.0\n6.0\n5.0\n5.0\n5.0\n4.0\n4.0\n3.0\n4.0\n3.0\n3.0\n3.0\n4.0\n4.0\n4.0\n4.0\n4.0\n4.0\n4.0\n4.0\n4.0\n4.0\n5.0\n6.0\n6.0\n6.0\n6.0\n5.0\n5.0\n5.0\n5.0\n5.0\n5.0\n5.0\n4.0\n4.0\n4.0\n4.0\n4.0\n4.0\n4.0\n4.0\n4.0\n4.0\n4.0\n4.0\n5.0\n4.0\n4.0\n4.0\n4.0\n4.0\n4.0\n4.0\n4.0\n4.0\n4.0\n4.0\n4.0\n4.0\n4.0\n4.0\n4.0\n3.0\n3.0\n2.0\n3.0\n3.0\n4.0\n3.0\n3.0\n3.0\n4.0\n4.0\n3.0\n3.0\n2.0\n3.0\n3.0\n4.0\n4.0\n4.0\n4.0\n5.0\n5.0\n5.0\n4.0\n4.0\n5.0\n5.0\n6.0\n6.0\n7.0\n7.0\n7.0\n8.0\n6.0\n6.0\n7.0\n6.0\n6.0\n5.0\n4.0\n5.0\n5.0\n6.0\n6.0\n5.0\n5.0\n5.0\n5.0\n4.0\n4.0\n4.0\n4.0\n4.0\n4.0\n4.0\n5.0\n5.0\n4.0\n4.0\n5.0\n5.0\n5.0\n4.0\n4.0\n4.0\n4.0\n4.0\n4.0\n4.0\n4.0\n4.0\n3.0\n3.0\n3.0\n3.0\n3.0\n3.0\n4.0\n4.0\n4.0\n4.0\n4.0\n4.0\n4.0\n4.0\n4.0\n4.0\n4.0\n4.0\n4.0\n4.0\n4.0\n4.0\n3.0\n3.0\n3.0\n3.0\n3.0\n3.0\n2.0\n3.0\n3.0\n3.0\n3.0\n3.0\n4.0\n4.0\n4.0\n3.0\n3.0\n3.0\n3.0\n3.0\n3.0\n3.0\n3.0\n3.0\n3.0\n3.0\n4.0\n4.0\n3.0\n3.0\n3.0\n4.0\n4.0\n4.0\n4.0\n4.0\n3.0\n4.0\n5.0\n5.0\n6.0\n6.0\n6.0\n7.0\n6.0\n6.0\n5.0\n5.0\n5.0\n4.0\n4.0\n5.0\n4.0\n3.0\n3.0\n3.0\n3.0\n3.0\n3.0\n2.0\n2.0\n2.0\n2.0\n2.0\n2.0\n2.0\n2.0\n2.0\n3.0\n4.0\n4.0\n4.0\n4.0\n3.0\n3.0\n3.0\n3.0\n3.0\n3.0\n3.0\n3.0\n3.0\n3.0\n3.0\n3.0\n3.0\n3.0\n3.0\n3.0\n3.0\n3.0\n3.0\n3.0\n3.0\n3.0\n3.0\n3.0\n3.0\n3.0\n2.0\n2.0\n2.0\n2.0\n4.0\n5.0\n6.0\n7.0\n7.0\n7.0\n6.0\n6.0\n6.0\n6.0\n6.0\n6.0\n6.0\n7.0\n7.0\n5.0\n6.0\n6.0\n6.0\n6.0\n6.0\n6.0\n6.0\n6.0\n6.0\n6.0\n6.0\n7.0\n6.0\n6.0\n6.0\n6.0\n7.0\n7.0\n7.0\n5.0\n4.0\n4.0\n4.0\n4.0\n4.0\n4.0\n3.0\n4.0\n3.0\n3.0\n3.0\n3.0\n4.0\n5.0\n5.0\n5.0\n5.0\n5.0\n5.0\n5.0\n4.0\n3.0\n3.0\n3.0\n3.0\n4.0\n4.0\n4.0\n4.0\n4.0\n4.0\n4.0\n4.0\n5.0\n4.0\n4.0\n4.0\n4.0\n4.0\n4.0\n4.0\n4.0\n5.0\n5.0\n5.0\n5.0\n5.0\n5.0\n5.0\n5.0\n5.0\n5.0\n5.0\n5.0\n5.0\n5.0\n5.0\n5.0\n4.0\n4.0\n5.0\n6.0\n6.0\n6.0\n6.0\n6.0\n5.0\n5.0\n5.0\n5.0\n6.0\n7.0\n7.0\n7.0\n7.0\n7.0\n8.0\n8.0\n7.0\n8.0\n7.0\n7.0\n7.0\n7.0\n6.0\n7.0\n6.0\n6.0\n7.0\n7.0\n7.0\n7.0\n6.0\n6.0\n5.0\n4.0\n4.0\n4.0\n4.0\n4.0\n4.0\n6.0\n6.0\n7.0\n7.0\n7.0\n8.0\n8.0\n6.0\n7.0\n6.0\n7.0\n8.0\n8.0\n8.0\n8.0\n8.0\n8.0\n8.0\n8.0\n7.0\n6.0\n6.0\n5.0\n5.0\n5.0\n5.0\n6.0\n6.0\n6.0\n6.0\n5.0\n5.0\n5.0\n5.0\n5.0\n5.0\n4.0\n5.0\n5.0\n5.0\n5.0\n5.0\n5.0\n5.0\n5.0\n5.0\n5.0\n5.0\n5.0\n5.0\n5.0\n6.0\n5.0\n6.0\n6.0\n7.0\n8.0\n8.0\n8.0\n8.0\n8.0\n8.0\n7.0\n7.0\n7.0\n7.0\n7.0\n7.0\n8.0\n8.0\n8.0\n7.0\n7.0\n6.0\n7.0\n7.0\n7.0\n7.0\n6.0\n7.0\n7.0\n7.0\n8.0\n8.0\n8.0\n8.0\n6.0\n7.0\n7.0\n7.0\n7.0\n7.0\n5.0\n5.0\n4.0\n4.0\n4.0\n4.0\n4.0\n4.0\n4.0\n3.0\n3.0\n4.0\n4.0\n3.0\n4.0\n4.0\n4.0\n6.0\n6.0\n6.0\n5.0\n5.0\n6.0\n7.0\n6.0\n6.0\n6.0\n6.0\n6.0\n5.0\n6.0\n6.0\n6.0\n6.0\n6.0\n6.0\n6.0\n6.0\n5.0\n6.0\n6.0\n6.0\n6.0\n7.0\n6.0\n6.0\n6.0\n6.0\n7.0\n7.0\n7.0\n7.0\n7.0\n7.0\n7.0\n6.0\n6.0\n6.0\n7.0\n7.0\n8.0\n8.0\n8.0\n7.0\n7.0\n7.0\n7.0\n8.0\n9.0\n8.0\n8.0\n8.0\n8.0\n7.0\n7.0\n8.0\n8.0\n7.0\n7.0\n6.0\n7.0\n7.0\n7.0\n6.0\n8.0\n8.0\n9.0\n8.0\n7.0\n7.0\n6.0\n7.0\n7.0\n6.0\n6.0\n5.0\n4.0\n5.0\n5.0\n5.0\n"
     ]
    }
   ],
   "source": [
    "train_generator = TimeseriesGenerator(parking_train, parking_train, length=look_back, batch_size=5)\n",
    "test_generator = TimeseriesGenerator(parking_test, parking_test, length=look_back, batch_size=1)\n",
    "\n",
    "for i in test_generator.data:\n",
    "    print(i)\n"
   ]
  },
  {
   "cell_type": "code",
   "execution_count": 18,
   "metadata": {},
   "outputs": [
    {
     "output_type": "stream",
     "name": "stdout",
     "text": [
      "Epoch 1/50\n",
      "484/484 [==============================] - 2s 4ms/step - loss: 2.1045\n",
      "Epoch 2/50\n",
      "484/484 [==============================] - 2s 3ms/step - loss: 0.7602\n",
      "Epoch 3/50\n",
      "484/484 [==============================] - 2s 3ms/step - loss: 0.6635\n",
      "Epoch 4/50\n",
      "484/484 [==============================] - 2s 3ms/step - loss: 0.6360\n",
      "Epoch 5/50\n",
      "484/484 [==============================] - 2s 3ms/step - loss: 0.6172\n",
      "Epoch 6/50\n",
      "484/484 [==============================] - 2s 3ms/step - loss: 0.6033\n",
      "Epoch 7/50\n",
      "484/484 [==============================] - 2s 3ms/step - loss: 0.6033\n",
      "Epoch 8/50\n",
      "484/484 [==============================] - 2s 3ms/step - loss: 0.6033\n",
      "Epoch 9/50\n",
      "484/484 [==============================] - 2s 3ms/step - loss: 0.5947\n",
      "Epoch 10/50\n",
      "484/484 [==============================] - 2s 3ms/step - loss: 0.5984\n",
      "Epoch 11/50\n",
      "484/484 [==============================] - 2s 3ms/step - loss: 0.5744\n",
      "Epoch 12/50\n",
      "484/484 [==============================] - 2s 3ms/step - loss: 0.5813\n",
      "Epoch 13/50\n",
      "484/484 [==============================] - 2s 3ms/step - loss: 0.5813\n",
      "Epoch 14/50\n",
      "484/484 [==============================] - 2s 3ms/step - loss: 0.5752\n",
      "Epoch 15/50\n",
      "484/484 [==============================] - 2s 3ms/step - loss: 0.5714\n",
      "Epoch 16/50\n",
      "484/484 [==============================] - 2s 3ms/step - loss: 0.5818\n",
      "Epoch 17/50\n",
      "484/484 [==============================] - 2s 3ms/step - loss: 0.5735\n",
      "Epoch 18/50\n",
      "484/484 [==============================] - 2s 3ms/step - loss: 0.5684\n",
      "Epoch 19/50\n",
      "484/484 [==============================] - 2s 3ms/step - loss: 0.5736\n",
      "Epoch 20/50\n",
      "484/484 [==============================] - 2s 3ms/step - loss: 0.5683\n",
      "Epoch 21/50\n",
      "484/484 [==============================] - 2s 3ms/step - loss: 0.5714\n",
      "Epoch 22/50\n",
      "484/484 [==============================] - 2s 3ms/step - loss: 0.5553\n",
      "Epoch 23/50\n",
      "484/484 [==============================] - 2s 3ms/step - loss: 0.5626\n",
      "Epoch 24/50\n",
      "484/484 [==============================] - 2s 3ms/step - loss: 0.5585\n",
      "Epoch 25/50\n",
      "484/484 [==============================] - 2s 3ms/step - loss: 0.5550\n",
      "Epoch 26/50\n",
      "484/484 [==============================] - 2s 3ms/step - loss: 0.5712\n",
      "Epoch 27/50\n",
      "484/484 [==============================] - 2s 3ms/step - loss: 0.5558\n",
      "Epoch 28/50\n",
      "484/484 [==============================] - 2s 3ms/step - loss: 0.5528\n",
      "Epoch 29/50\n",
      "484/484 [==============================] - 2s 3ms/step - loss: 0.5490\n",
      "Epoch 30/50\n",
      "484/484 [==============================] - 2s 3ms/step - loss: 0.5471\n",
      "Epoch 31/50\n",
      "484/484 [==============================] - 2s 3ms/step - loss: 0.5496\n",
      "Epoch 32/50\n",
      "484/484 [==============================] - 2s 3ms/step - loss: 0.5531\n",
      "Epoch 33/50\n",
      "484/484 [==============================] - 2s 3ms/step - loss: 0.5367\n",
      "Epoch 34/50\n",
      "484/484 [==============================] - 2s 3ms/step - loss: 0.5427\n",
      "Epoch 35/50\n",
      "484/484 [==============================] - 2s 3ms/step - loss: 0.5456\n",
      "Epoch 36/50\n",
      "484/484 [==============================] - 2s 3ms/step - loss: 0.5401\n",
      "Epoch 37/50\n",
      "484/484 [==============================] - 2s 3ms/step - loss: 0.5363\n",
      "Epoch 38/50\n",
      "484/484 [==============================] - 2s 3ms/step - loss: 0.5401\n",
      "Epoch 39/50\n",
      "484/484 [==============================] - 2s 3ms/step - loss: 0.5458\n",
      "Epoch 40/50\n",
      "484/484 [==============================] - 2s 3ms/step - loss: 0.5422\n",
      "Epoch 41/50\n",
      "484/484 [==============================] - 2s 3ms/step - loss: 0.5340\n",
      "Epoch 42/50\n",
      "484/484 [==============================] - 2s 3ms/step - loss: 0.5362\n",
      "Epoch 43/50\n",
      "484/484 [==============================] - 2s 3ms/step - loss: 0.5311\n",
      "Epoch 44/50\n",
      "484/484 [==============================] - 2s 3ms/step - loss: 0.5338\n",
      "Epoch 45/50\n",
      "484/484 [==============================] - 2s 3ms/step - loss: 0.5335\n",
      "Epoch 46/50\n",
      "484/484 [==============================] - 2s 3ms/step - loss: 0.5302\n",
      "Epoch 47/50\n",
      "484/484 [==============================] - 2s 3ms/step - loss: 0.5310\n",
      "Epoch 48/50\n",
      "484/484 [==============================] - 2s 3ms/step - loss: 0.5318\n",
      "Epoch 49/50\n",
      "484/484 [==============================] - 2s 3ms/step - loss: 0.5240\n",
      "Epoch 50/50\n",
      "484/484 [==============================] - 2s 3ms/step - loss: 0.5371\n"
     ]
    },
    {
     "output_type": "execute_result",
     "data": {
      "text/plain": [
       "<tensorflow.python.keras.callbacks.History at 0x11c1df1bac0>"
      ]
     },
     "metadata": {},
     "execution_count": 18
    }
   ],
   "source": [
    "model_adam = Sequential()\n",
    "\n",
    "model_adam.add(LSTM(25,\n",
    "        activation='relu',\n",
    "        input_shape=(look_back,1),\n",
    "        return_sequences=True)\n",
    ")\n",
    "model_adam.add(LSTM(10,\n",
    "        activation='relu',\n",
    "        input_shape=(look_back,1))\n",
    ")\n",
    "\n",
    "model_adam.add(Dense(1))\n",
    "\n",
    "model_adam.compile(optimizer='adam', loss='mse')\n",
    "\n",
    "num_epochs = 50\n",
    "\n",
    "model_adam.fit_generator(train_generator, epochs=num_epochs, verbose=1)"
   ]
  },
  {
   "cell_type": "code",
   "execution_count": 19,
   "metadata": {
    "tags": []
   },
   "outputs": [
    {
     "output_type": "stream",
     "name": "stdout",
     "text": [
      "Epoch 1/50\n",
      "484/484 [==============================] - 2s 3ms/step - loss: 2.6791\n",
      "Epoch 2/50\n",
      "484/484 [==============================] - 2s 3ms/step - loss: 0.8635\n",
      "Epoch 3/50\n",
      "484/484 [==============================] - 2s 3ms/step - loss: 0.7451\n",
      "Epoch 4/50\n",
      "484/484 [==============================] - 2s 3ms/step - loss: 0.6950\n",
      "Epoch 5/50\n",
      "484/484 [==============================] - 2s 3ms/step - loss: 0.6790\n",
      "Epoch 6/50\n",
      "484/484 [==============================] - 2s 3ms/step - loss: 0.6600\n",
      "Epoch 7/50\n",
      "484/484 [==============================] - 2s 3ms/step - loss: 0.6407\n",
      "Epoch 8/50\n",
      "484/484 [==============================] - 2s 3ms/step - loss: 0.6380\n",
      "Epoch 9/50\n",
      "484/484 [==============================] - 2s 3ms/step - loss: 0.6358\n",
      "Epoch 10/50\n",
      "484/484 [==============================] - 2s 3ms/step - loss: 0.6252\n",
      "Epoch 11/50\n",
      "484/484 [==============================] - 2s 3ms/step - loss: 0.6235\n",
      "Epoch 12/50\n",
      "484/484 [==============================] - 2s 3ms/step - loss: 0.6194\n",
      "Epoch 13/50\n",
      "484/484 [==============================] - 2s 3ms/step - loss: 0.6132\n",
      "Epoch 14/50\n",
      "484/484 [==============================] - 2s 3ms/step - loss: 0.6119\n",
      "Epoch 15/50\n",
      "484/484 [==============================] - 2s 3ms/step - loss: 0.6128\n",
      "Epoch 16/50\n",
      "484/484 [==============================] - 2s 3ms/step - loss: 0.6031\n",
      "Epoch 17/50\n",
      "484/484 [==============================] - 2s 3ms/step - loss: 0.5963\n",
      "Epoch 18/50\n",
      "484/484 [==============================] - 2s 3ms/step - loss: 0.6022\n",
      "Epoch 19/50\n",
      "484/484 [==============================] - 2s 3ms/step - loss: 0.6026\n",
      "Epoch 20/50\n",
      "484/484 [==============================] - 2s 3ms/step - loss: 0.6055\n",
      "Epoch 21/50\n",
      "484/484 [==============================] - 2s 3ms/step - loss: 0.5906\n",
      "Epoch 22/50\n",
      "484/484 [==============================] - 2s 3ms/step - loss: 0.5835\n",
      "Epoch 23/50\n",
      "484/484 [==============================] - 2s 3ms/step - loss: 0.5909\n",
      "Epoch 24/50\n",
      "484/484 [==============================] - 2s 3ms/step - loss: 0.5923\n",
      "Epoch 25/50\n",
      "484/484 [==============================] - 2s 3ms/step - loss: 0.5827\n",
      "Epoch 26/50\n",
      "484/484 [==============================] - 2s 3ms/step - loss: 0.5848\n",
      "Epoch 27/50\n",
      "484/484 [==============================] - 2s 3ms/step - loss: 0.5831\n",
      "Epoch 28/50\n",
      "484/484 [==============================] - 2s 3ms/step - loss: 0.5865\n",
      "Epoch 29/50\n",
      "484/484 [==============================] - 2s 3ms/step - loss: 0.5785\n",
      "Epoch 30/50\n",
      "484/484 [==============================] - 2s 3ms/step - loss: 0.5813\n",
      "Epoch 31/50\n",
      "484/484 [==============================] - 2s 3ms/step - loss: 0.5830\n",
      "Epoch 32/50\n",
      "484/484 [==============================] - 2s 3ms/step - loss: 0.5857\n",
      "Epoch 33/50\n",
      "484/484 [==============================] - 2s 3ms/step - loss: 0.5835\n",
      "Epoch 34/50\n",
      "484/484 [==============================] - 2s 3ms/step - loss: 0.5790\n",
      "Epoch 35/50\n",
      "484/484 [==============================] - 2s 3ms/step - loss: 0.5787\n",
      "Epoch 36/50\n",
      "484/484 [==============================] - 2s 3ms/step - loss: 0.5740\n",
      "Epoch 37/50\n",
      "484/484 [==============================] - 2s 3ms/step - loss: 0.5761\n",
      "Epoch 38/50\n",
      "484/484 [==============================] - 2s 3ms/step - loss: 0.5788\n",
      "Epoch 39/50\n",
      "484/484 [==============================] - 2s 3ms/step - loss: 0.5791\n",
      "Epoch 40/50\n",
      "484/484 [==============================] - 2s 3ms/step - loss: 0.5769\n",
      "Epoch 41/50\n",
      "484/484 [==============================] - 2s 3ms/step - loss: 0.5721\n",
      "Epoch 42/50\n",
      "484/484 [==============================] - 2s 3ms/step - loss: 0.5721\n",
      "Epoch 43/50\n",
      "484/484 [==============================] - 2s 3ms/step - loss: 0.5726\n",
      "Epoch 44/50\n",
      "484/484 [==============================] - 2s 3ms/step - loss: 0.5729\n",
      "Epoch 45/50\n",
      "484/484 [==============================] - 2s 3ms/step - loss: 0.5755\n",
      "Epoch 46/50\n",
      "484/484 [==============================] - 2s 3ms/step - loss: 0.5701\n",
      "Epoch 47/50\n",
      "484/484 [==============================] - 2s 3ms/step - loss: 0.5726\n",
      "Epoch 48/50\n",
      "484/484 [==============================] - 2s 3ms/step - loss: 0.5677\n",
      "Epoch 49/50\n",
      "484/484 [==============================] - 2s 3ms/step - loss: 0.5696\n",
      "Epoch 50/50\n",
      "484/484 [==============================] - 2s 3ms/step - loss: 0.5644\n"
     ]
    },
    {
     "output_type": "execute_result",
     "data": {
      "text/plain": [
       "<tensorflow.python.keras.callbacks.History at 0x11c1d58e4c0>"
      ]
     },
     "metadata": {},
     "execution_count": 19
    }
   ],
   "source": [
    "model = Sequential()\n",
    "\n",
    "model.add(LSTM(25,\n",
    "        activation='relu',\n",
    "        input_shape=(look_back,1),\n",
    "        return_sequences=True)\n",
    ")\n",
    "model.add(LSTM(10,\n",
    "        activation='relu',\n",
    "        input_shape=(look_back,1))\n",
    ")\n",
    "\n",
    "model.add(Dense(1))\n",
    "\n",
    "model.compile(optimizer='rmsprop', loss='mse')\n",
    "\n",
    "num_epochs = 50\n",
    "\n",
    "model.fit_generator(train_generator, epochs=num_epochs, verbose=1)"
   ]
  },
  {
   "cell_type": "code",
   "execution_count": 24,
   "metadata": {},
   "outputs": [
    {
     "output_type": "error",
     "ename": "ValueError",
     "evalue": "in user code:\n\n    C:\\Users\\Niek\\AppData\\Local\\Programs\\Python\\Python38\\lib\\site-packages\\tensorflow\\python\\keras\\engine\\training.py:1462 predict_function  *\n        return step_function(self, iterator)\n    C:\\Users\\Niek\\AppData\\Local\\Programs\\Python\\Python38\\lib\\site-packages\\tensorflow\\python\\keras\\engine\\training.py:1452 step_function  **\n        outputs = model.distribute_strategy.run(run_step, args=(data,))\n    C:\\Users\\Niek\\AppData\\Local\\Programs\\Python\\Python38\\lib\\site-packages\\tensorflow\\python\\distribute\\distribute_lib.py:1211 run\n        return self._extended.call_for_each_replica(fn, args=args, kwargs=kwargs)\n    C:\\Users\\Niek\\AppData\\Local\\Programs\\Python\\Python38\\lib\\site-packages\\tensorflow\\python\\distribute\\distribute_lib.py:2585 call_for_each_replica\n        return self._call_for_each_replica(fn, args, kwargs)\n    C:\\Users\\Niek\\AppData\\Local\\Programs\\Python\\Python38\\lib\\site-packages\\tensorflow\\python\\distribute\\distribute_lib.py:2945 _call_for_each_replica\n        return fn(*args, **kwargs)\n    C:\\Users\\Niek\\AppData\\Local\\Programs\\Python\\Python38\\lib\\site-packages\\tensorflow\\python\\keras\\engine\\training.py:1445 run_step  **\n        outputs = model.predict_step(data)\n    C:\\Users\\Niek\\AppData\\Local\\Programs\\Python\\Python38\\lib\\site-packages\\tensorflow\\python\\keras\\engine\\training.py:1418 predict_step\n        return self(x, training=False)\n    C:\\Users\\Niek\\AppData\\Local\\Programs\\Python\\Python38\\lib\\site-packages\\tensorflow\\python\\keras\\engine\\base_layer.py:975 __call__\n        input_spec.assert_input_compatibility(self.input_spec, inputs,\n    C:\\Users\\Niek\\AppData\\Local\\Programs\\Python\\Python38\\lib\\site-packages\\tensorflow\\python\\keras\\engine\\input_spec.py:176 assert_input_compatibility\n        raise ValueError('Input ' + str(input_index) + ' of layer ' +\n\n    ValueError: Input 0 of layer sequential_2 is incompatible with the layer: expected ndim=3, found ndim=2. Full shape received: [None, 1]\n",
     "traceback": [
      "\u001b[1;31m---------------------------------------------------------------------------\u001b[0m",
      "\u001b[1;31mValueError\u001b[0m                                Traceback (most recent call last)",
      "\u001b[1;32m<ipython-input-24-9970369aad10>\u001b[0m in \u001b[0;36m<module>\u001b[1;34m\u001b[0m\n\u001b[1;32m----> 1\u001b[1;33m \u001b[0mprediction\u001b[0m \u001b[1;33m=\u001b[0m \u001b[0mmodel_adam\u001b[0m\u001b[1;33m.\u001b[0m\u001b[0mpredict\u001b[0m\u001b[1;33m(\u001b[0m\u001b[1;33m[\u001b[0m\u001b[1;36m6\u001b[0m\u001b[1;33m,\u001b[0m\u001b[1;36m5\u001b[0m\u001b[1;33m,\u001b[0m\u001b[1;36m4\u001b[0m\u001b[1;33m,\u001b[0m\u001b[1;36m3\u001b[0m\u001b[1;33m,\u001b[0m\u001b[1;36m4\u001b[0m\u001b[1;33m,\u001b[0m\u001b[1;36m3\u001b[0m\u001b[1;33m,\u001b[0m\u001b[1;36m3\u001b[0m\u001b[1;33m,\u001b[0m\u001b[1;36m3\u001b[0m\u001b[1;33m,\u001b[0m\u001b[1;36m3\u001b[0m\u001b[1;33m,\u001b[0m\u001b[1;36m3\u001b[0m\u001b[1;33m,\u001b[0m\u001b[1;36m2\u001b[0m\u001b[1;33m,\u001b[0m\u001b[1;36m1\u001b[0m\u001b[1;33m,\u001b[0m\u001b[1;36m1\u001b[0m\u001b[1;33m,\u001b[0m\u001b[1;36m2\u001b[0m\u001b[1;33m,\u001b[0m\u001b[1;36m3\u001b[0m\u001b[1;33m]\u001b[0m\u001b[1;33m)\u001b[0m\u001b[1;33m\u001b[0m\u001b[1;33m\u001b[0m\u001b[0m\n\u001b[0m\u001b[0;32m      2\u001b[0m \u001b[0mprediction_a\u001b[0m \u001b[1;33m=\u001b[0m \u001b[0mmodel\u001b[0m\u001b[1;33m.\u001b[0m\u001b[0mpredict\u001b[0m\u001b[1;33m(\u001b[0m\u001b[0mtest_generator\u001b[0m\u001b[1;33m)\u001b[0m\u001b[1;33m\u001b[0m\u001b[1;33m\u001b[0m\u001b[0m\n\u001b[0;32m      3\u001b[0m \u001b[1;33m\u001b[0m\u001b[0m\n\u001b[0;32m      4\u001b[0m \u001b[0mparking_test\u001b[0m \u001b[1;33m=\u001b[0m \u001b[0mparking_test\u001b[0m\u001b[1;33m.\u001b[0m\u001b[0mreshape\u001b[0m\u001b[1;33m(\u001b[0m\u001b[1;33m(\u001b[0m\u001b[1;33m-\u001b[0m\u001b[1;36m1\u001b[0m\u001b[1;33m)\u001b[0m\u001b[1;33m)\u001b[0m\u001b[1;33m\u001b[0m\u001b[1;33m\u001b[0m\u001b[0m\n\u001b[0;32m      5\u001b[0m \u001b[0mprediction\u001b[0m \u001b[1;33m=\u001b[0m \u001b[0mprediction\u001b[0m\u001b[1;33m.\u001b[0m\u001b[0mreshape\u001b[0m\u001b[1;33m(\u001b[0m\u001b[1;33m(\u001b[0m\u001b[1;33m-\u001b[0m\u001b[1;36m1\u001b[0m\u001b[1;33m)\u001b[0m\u001b[1;33m)\u001b[0m\u001b[1;33m\u001b[0m\u001b[1;33m\u001b[0m\u001b[0m\n",
      "\u001b[1;32m~\\AppData\\Local\\Programs\\Python\\Python38\\lib\\site-packages\\tensorflow\\python\\keras\\engine\\training.py\u001b[0m in \u001b[0;36m_method_wrapper\u001b[1;34m(self, *args, **kwargs)\u001b[0m\n\u001b[0;32m    128\u001b[0m       raise ValueError('{} is not supported in multi-worker mode.'.format(\n\u001b[0;32m    129\u001b[0m           method.__name__))\n\u001b[1;32m--> 130\u001b[1;33m     \u001b[1;32mreturn\u001b[0m \u001b[0mmethod\u001b[0m\u001b[1;33m(\u001b[0m\u001b[0mself\u001b[0m\u001b[1;33m,\u001b[0m \u001b[1;33m*\u001b[0m\u001b[0margs\u001b[0m\u001b[1;33m,\u001b[0m \u001b[1;33m**\u001b[0m\u001b[0mkwargs\u001b[0m\u001b[1;33m)\u001b[0m\u001b[1;33m\u001b[0m\u001b[1;33m\u001b[0m\u001b[0m\n\u001b[0m\u001b[0;32m    131\u001b[0m \u001b[1;33m\u001b[0m\u001b[0m\n\u001b[0;32m    132\u001b[0m   return tf_decorator.make_decorator(\n",
      "\u001b[1;32m~\\AppData\\Local\\Programs\\Python\\Python38\\lib\\site-packages\\tensorflow\\python\\keras\\engine\\training.py\u001b[0m in \u001b[0;36mpredict\u001b[1;34m(self, x, batch_size, verbose, steps, callbacks, max_queue_size, workers, use_multiprocessing)\u001b[0m\n\u001b[0;32m   1597\u001b[0m           \u001b[1;32mfor\u001b[0m \u001b[0mstep\u001b[0m \u001b[1;32min\u001b[0m \u001b[0mdata_handler\u001b[0m\u001b[1;33m.\u001b[0m\u001b[0msteps\u001b[0m\u001b[1;33m(\u001b[0m\u001b[1;33m)\u001b[0m\u001b[1;33m:\u001b[0m\u001b[1;33m\u001b[0m\u001b[1;33m\u001b[0m\u001b[0m\n\u001b[0;32m   1598\u001b[0m             \u001b[0mcallbacks\u001b[0m\u001b[1;33m.\u001b[0m\u001b[0mon_predict_batch_begin\u001b[0m\u001b[1;33m(\u001b[0m\u001b[0mstep\u001b[0m\u001b[1;33m)\u001b[0m\u001b[1;33m\u001b[0m\u001b[1;33m\u001b[0m\u001b[0m\n\u001b[1;32m-> 1599\u001b[1;33m             \u001b[0mtmp_batch_outputs\u001b[0m \u001b[1;33m=\u001b[0m \u001b[0mpredict_function\u001b[0m\u001b[1;33m(\u001b[0m\u001b[0miterator\u001b[0m\u001b[1;33m)\u001b[0m\u001b[1;33m\u001b[0m\u001b[1;33m\u001b[0m\u001b[0m\n\u001b[0m\u001b[0;32m   1600\u001b[0m             \u001b[1;32mif\u001b[0m \u001b[0mdata_handler\u001b[0m\u001b[1;33m.\u001b[0m\u001b[0mshould_sync\u001b[0m\u001b[1;33m:\u001b[0m\u001b[1;33m\u001b[0m\u001b[1;33m\u001b[0m\u001b[0m\n\u001b[0;32m   1601\u001b[0m               \u001b[0mcontext\u001b[0m\u001b[1;33m.\u001b[0m\u001b[0masync_wait\u001b[0m\u001b[1;33m(\u001b[0m\u001b[1;33m)\u001b[0m\u001b[1;33m\u001b[0m\u001b[1;33m\u001b[0m\u001b[0m\n",
      "\u001b[1;32m~\\AppData\\Local\\Programs\\Python\\Python38\\lib\\site-packages\\tensorflow\\python\\eager\\def_function.py\u001b[0m in \u001b[0;36m__call__\u001b[1;34m(self, *args, **kwds)\u001b[0m\n\u001b[0;32m    778\u001b[0m       \u001b[1;32melse\u001b[0m\u001b[1;33m:\u001b[0m\u001b[1;33m\u001b[0m\u001b[1;33m\u001b[0m\u001b[0m\n\u001b[0;32m    779\u001b[0m         \u001b[0mcompiler\u001b[0m \u001b[1;33m=\u001b[0m \u001b[1;34m\"nonXla\"\u001b[0m\u001b[1;33m\u001b[0m\u001b[1;33m\u001b[0m\u001b[0m\n\u001b[1;32m--> 780\u001b[1;33m         \u001b[0mresult\u001b[0m \u001b[1;33m=\u001b[0m \u001b[0mself\u001b[0m\u001b[1;33m.\u001b[0m\u001b[0m_call\u001b[0m\u001b[1;33m(\u001b[0m\u001b[1;33m*\u001b[0m\u001b[0margs\u001b[0m\u001b[1;33m,\u001b[0m \u001b[1;33m**\u001b[0m\u001b[0mkwds\u001b[0m\u001b[1;33m)\u001b[0m\u001b[1;33m\u001b[0m\u001b[1;33m\u001b[0m\u001b[0m\n\u001b[0m\u001b[0;32m    781\u001b[0m \u001b[1;33m\u001b[0m\u001b[0m\n\u001b[0;32m    782\u001b[0m       \u001b[0mnew_tracing_count\u001b[0m \u001b[1;33m=\u001b[0m \u001b[0mself\u001b[0m\u001b[1;33m.\u001b[0m\u001b[0m_get_tracing_count\u001b[0m\u001b[1;33m(\u001b[0m\u001b[1;33m)\u001b[0m\u001b[1;33m\u001b[0m\u001b[1;33m\u001b[0m\u001b[0m\n",
      "\u001b[1;32m~\\AppData\\Local\\Programs\\Python\\Python38\\lib\\site-packages\\tensorflow\\python\\eager\\def_function.py\u001b[0m in \u001b[0;36m_call\u001b[1;34m(self, *args, **kwds)\u001b[0m\n\u001b[0;32m    812\u001b[0m       \u001b[1;31m# In this case we have not created variables on the first call. So we can\u001b[0m\u001b[1;33m\u001b[0m\u001b[1;33m\u001b[0m\u001b[1;33m\u001b[0m\u001b[0m\n\u001b[0;32m    813\u001b[0m       \u001b[1;31m# run the first trace but we should fail if variables are created.\u001b[0m\u001b[1;33m\u001b[0m\u001b[1;33m\u001b[0m\u001b[1;33m\u001b[0m\u001b[0m\n\u001b[1;32m--> 814\u001b[1;33m       \u001b[0mresults\u001b[0m \u001b[1;33m=\u001b[0m \u001b[0mself\u001b[0m\u001b[1;33m.\u001b[0m\u001b[0m_stateful_fn\u001b[0m\u001b[1;33m(\u001b[0m\u001b[1;33m*\u001b[0m\u001b[0margs\u001b[0m\u001b[1;33m,\u001b[0m \u001b[1;33m**\u001b[0m\u001b[0mkwds\u001b[0m\u001b[1;33m)\u001b[0m\u001b[1;33m\u001b[0m\u001b[1;33m\u001b[0m\u001b[0m\n\u001b[0m\u001b[0;32m    815\u001b[0m       \u001b[1;32mif\u001b[0m \u001b[0mself\u001b[0m\u001b[1;33m.\u001b[0m\u001b[0m_created_variables\u001b[0m\u001b[1;33m:\u001b[0m\u001b[1;33m\u001b[0m\u001b[1;33m\u001b[0m\u001b[0m\n\u001b[0;32m    816\u001b[0m         raise ValueError(\"Creating variables on a non-first call to a function\"\n",
      "\u001b[1;32m~\\AppData\\Local\\Programs\\Python\\Python38\\lib\\site-packages\\tensorflow\\python\\eager\\function.py\u001b[0m in \u001b[0;36m__call__\u001b[1;34m(self, *args, **kwargs)\u001b[0m\n\u001b[0;32m   2826\u001b[0m     \u001b[1;34m\"\"\"Calls a graph function specialized to the inputs.\"\"\"\u001b[0m\u001b[1;33m\u001b[0m\u001b[1;33m\u001b[0m\u001b[0m\n\u001b[0;32m   2827\u001b[0m     \u001b[1;32mwith\u001b[0m \u001b[0mself\u001b[0m\u001b[1;33m.\u001b[0m\u001b[0m_lock\u001b[0m\u001b[1;33m:\u001b[0m\u001b[1;33m\u001b[0m\u001b[1;33m\u001b[0m\u001b[0m\n\u001b[1;32m-> 2828\u001b[1;33m       \u001b[0mgraph_function\u001b[0m\u001b[1;33m,\u001b[0m \u001b[0margs\u001b[0m\u001b[1;33m,\u001b[0m \u001b[0mkwargs\u001b[0m \u001b[1;33m=\u001b[0m \u001b[0mself\u001b[0m\u001b[1;33m.\u001b[0m\u001b[0m_maybe_define_function\u001b[0m\u001b[1;33m(\u001b[0m\u001b[0margs\u001b[0m\u001b[1;33m,\u001b[0m \u001b[0mkwargs\u001b[0m\u001b[1;33m)\u001b[0m\u001b[1;33m\u001b[0m\u001b[1;33m\u001b[0m\u001b[0m\n\u001b[0m\u001b[0;32m   2829\u001b[0m     \u001b[1;32mreturn\u001b[0m \u001b[0mgraph_function\u001b[0m\u001b[1;33m.\u001b[0m\u001b[0m_filtered_call\u001b[0m\u001b[1;33m(\u001b[0m\u001b[0margs\u001b[0m\u001b[1;33m,\u001b[0m \u001b[0mkwargs\u001b[0m\u001b[1;33m)\u001b[0m  \u001b[1;31m# pylint: disable=protected-access\u001b[0m\u001b[1;33m\u001b[0m\u001b[1;33m\u001b[0m\u001b[0m\n\u001b[0;32m   2830\u001b[0m \u001b[1;33m\u001b[0m\u001b[0m\n",
      "\u001b[1;32m~\\AppData\\Local\\Programs\\Python\\Python38\\lib\\site-packages\\tensorflow\\python\\eager\\function.py\u001b[0m in \u001b[0;36m_maybe_define_function\u001b[1;34m(self, args, kwargs)\u001b[0m\n\u001b[0;32m   3208\u001b[0m           \u001b[1;32mand\u001b[0m \u001b[0mself\u001b[0m\u001b[1;33m.\u001b[0m\u001b[0minput_signature\u001b[0m \u001b[1;32mis\u001b[0m \u001b[1;32mNone\u001b[0m\u001b[1;33m\u001b[0m\u001b[1;33m\u001b[0m\u001b[0m\n\u001b[0;32m   3209\u001b[0m           and call_context_key in self._function_cache.missed):\n\u001b[1;32m-> 3210\u001b[1;33m         \u001b[1;32mreturn\u001b[0m \u001b[0mself\u001b[0m\u001b[1;33m.\u001b[0m\u001b[0m_define_function_with_shape_relaxation\u001b[0m\u001b[1;33m(\u001b[0m\u001b[0margs\u001b[0m\u001b[1;33m,\u001b[0m \u001b[0mkwargs\u001b[0m\u001b[1;33m)\u001b[0m\u001b[1;33m\u001b[0m\u001b[1;33m\u001b[0m\u001b[0m\n\u001b[0m\u001b[0;32m   3211\u001b[0m \u001b[1;33m\u001b[0m\u001b[0m\n\u001b[0;32m   3212\u001b[0m       \u001b[0mself\u001b[0m\u001b[1;33m.\u001b[0m\u001b[0m_function_cache\u001b[0m\u001b[1;33m.\u001b[0m\u001b[0mmissed\u001b[0m\u001b[1;33m.\u001b[0m\u001b[0madd\u001b[0m\u001b[1;33m(\u001b[0m\u001b[0mcall_context_key\u001b[0m\u001b[1;33m)\u001b[0m\u001b[1;33m\u001b[0m\u001b[1;33m\u001b[0m\u001b[0m\n",
      "\u001b[1;32m~\\AppData\\Local\\Programs\\Python\\Python38\\lib\\site-packages\\tensorflow\\python\\eager\\function.py\u001b[0m in \u001b[0;36m_define_function_with_shape_relaxation\u001b[1;34m(self, args, kwargs)\u001b[0m\n\u001b[0;32m   3139\u001b[0m           expand_composites=True)\n\u001b[0;32m   3140\u001b[0m \u001b[1;33m\u001b[0m\u001b[0m\n\u001b[1;32m-> 3141\u001b[1;33m     graph_function = self._create_graph_function(\n\u001b[0m\u001b[0;32m   3142\u001b[0m         args, kwargs, override_flat_arg_shapes=relaxed_arg_shapes)\n\u001b[0;32m   3143\u001b[0m     \u001b[0mself\u001b[0m\u001b[1;33m.\u001b[0m\u001b[0m_function_cache\u001b[0m\u001b[1;33m.\u001b[0m\u001b[0marg_relaxed\u001b[0m\u001b[1;33m[\u001b[0m\u001b[0mrank_only_cache_key\u001b[0m\u001b[1;33m]\u001b[0m \u001b[1;33m=\u001b[0m \u001b[0mgraph_function\u001b[0m\u001b[1;33m\u001b[0m\u001b[1;33m\u001b[0m\u001b[0m\n",
      "\u001b[1;32m~\\AppData\\Local\\Programs\\Python\\Python38\\lib\\site-packages\\tensorflow\\python\\eager\\function.py\u001b[0m in \u001b[0;36m_create_graph_function\u001b[1;34m(self, args, kwargs, override_flat_arg_shapes)\u001b[0m\n\u001b[0;32m   3063\u001b[0m     \u001b[0marg_names\u001b[0m \u001b[1;33m=\u001b[0m \u001b[0mbase_arg_names\u001b[0m \u001b[1;33m+\u001b[0m \u001b[0mmissing_arg_names\u001b[0m\u001b[1;33m\u001b[0m\u001b[1;33m\u001b[0m\u001b[0m\n\u001b[0;32m   3064\u001b[0m     graph_function = ConcreteFunction(\n\u001b[1;32m-> 3065\u001b[1;33m         func_graph_module.func_graph_from_py_func(\n\u001b[0m\u001b[0;32m   3066\u001b[0m             \u001b[0mself\u001b[0m\u001b[1;33m.\u001b[0m\u001b[0m_name\u001b[0m\u001b[1;33m,\u001b[0m\u001b[1;33m\u001b[0m\u001b[1;33m\u001b[0m\u001b[0m\n\u001b[0;32m   3067\u001b[0m             \u001b[0mself\u001b[0m\u001b[1;33m.\u001b[0m\u001b[0m_python_function\u001b[0m\u001b[1;33m,\u001b[0m\u001b[1;33m\u001b[0m\u001b[1;33m\u001b[0m\u001b[0m\n",
      "\u001b[1;32m~\\AppData\\Local\\Programs\\Python\\Python38\\lib\\site-packages\\tensorflow\\python\\framework\\func_graph.py\u001b[0m in \u001b[0;36mfunc_graph_from_py_func\u001b[1;34m(name, python_func, args, kwargs, signature, func_graph, autograph, autograph_options, add_control_dependencies, arg_names, op_return_value, collections, capture_by_value, override_flat_arg_shapes)\u001b[0m\n\u001b[0;32m    984\u001b[0m         \u001b[0m_\u001b[0m\u001b[1;33m,\u001b[0m \u001b[0moriginal_func\u001b[0m \u001b[1;33m=\u001b[0m \u001b[0mtf_decorator\u001b[0m\u001b[1;33m.\u001b[0m\u001b[0munwrap\u001b[0m\u001b[1;33m(\u001b[0m\u001b[0mpython_func\u001b[0m\u001b[1;33m)\u001b[0m\u001b[1;33m\u001b[0m\u001b[1;33m\u001b[0m\u001b[0m\n\u001b[0;32m    985\u001b[0m \u001b[1;33m\u001b[0m\u001b[0m\n\u001b[1;32m--> 986\u001b[1;33m       \u001b[0mfunc_outputs\u001b[0m \u001b[1;33m=\u001b[0m \u001b[0mpython_func\u001b[0m\u001b[1;33m(\u001b[0m\u001b[1;33m*\u001b[0m\u001b[0mfunc_args\u001b[0m\u001b[1;33m,\u001b[0m \u001b[1;33m**\u001b[0m\u001b[0mfunc_kwargs\u001b[0m\u001b[1;33m)\u001b[0m\u001b[1;33m\u001b[0m\u001b[1;33m\u001b[0m\u001b[0m\n\u001b[0m\u001b[0;32m    987\u001b[0m \u001b[1;33m\u001b[0m\u001b[0m\n\u001b[0;32m    988\u001b[0m       \u001b[1;31m# invariant: `func_outputs` contains only Tensors, CompositeTensors,\u001b[0m\u001b[1;33m\u001b[0m\u001b[1;33m\u001b[0m\u001b[1;33m\u001b[0m\u001b[0m\n",
      "\u001b[1;32m~\\AppData\\Local\\Programs\\Python\\Python38\\lib\\site-packages\\tensorflow\\python\\eager\\def_function.py\u001b[0m in \u001b[0;36mwrapped_fn\u001b[1;34m(*args, **kwds)\u001b[0m\n\u001b[0;32m    598\u001b[0m         \u001b[1;31m# __wrapped__ allows AutoGraph to swap in a converted function. We give\u001b[0m\u001b[1;33m\u001b[0m\u001b[1;33m\u001b[0m\u001b[1;33m\u001b[0m\u001b[0m\n\u001b[0;32m    599\u001b[0m         \u001b[1;31m# the function a weak reference to itself to avoid a reference cycle.\u001b[0m\u001b[1;33m\u001b[0m\u001b[1;33m\u001b[0m\u001b[1;33m\u001b[0m\u001b[0m\n\u001b[1;32m--> 600\u001b[1;33m         \u001b[1;32mreturn\u001b[0m \u001b[0mweak_wrapped_fn\u001b[0m\u001b[1;33m(\u001b[0m\u001b[1;33m)\u001b[0m\u001b[1;33m.\u001b[0m\u001b[0m__wrapped__\u001b[0m\u001b[1;33m(\u001b[0m\u001b[1;33m*\u001b[0m\u001b[0margs\u001b[0m\u001b[1;33m,\u001b[0m \u001b[1;33m**\u001b[0m\u001b[0mkwds\u001b[0m\u001b[1;33m)\u001b[0m\u001b[1;33m\u001b[0m\u001b[1;33m\u001b[0m\u001b[0m\n\u001b[0m\u001b[0;32m    601\u001b[0m     \u001b[0mweak_wrapped_fn\u001b[0m \u001b[1;33m=\u001b[0m \u001b[0mweakref\u001b[0m\u001b[1;33m.\u001b[0m\u001b[0mref\u001b[0m\u001b[1;33m(\u001b[0m\u001b[0mwrapped_fn\u001b[0m\u001b[1;33m)\u001b[0m\u001b[1;33m\u001b[0m\u001b[1;33m\u001b[0m\u001b[0m\n\u001b[0;32m    602\u001b[0m \u001b[1;33m\u001b[0m\u001b[0m\n",
      "\u001b[1;32m~\\AppData\\Local\\Programs\\Python\\Python38\\lib\\site-packages\\tensorflow\\python\\framework\\func_graph.py\u001b[0m in \u001b[0;36mwrapper\u001b[1;34m(*args, **kwargs)\u001b[0m\n\u001b[0;32m    971\u001b[0m           \u001b[1;32mexcept\u001b[0m \u001b[0mException\u001b[0m \u001b[1;32mas\u001b[0m \u001b[0me\u001b[0m\u001b[1;33m:\u001b[0m  \u001b[1;31m# pylint:disable=broad-except\u001b[0m\u001b[1;33m\u001b[0m\u001b[1;33m\u001b[0m\u001b[0m\n\u001b[0;32m    972\u001b[0m             \u001b[1;32mif\u001b[0m \u001b[0mhasattr\u001b[0m\u001b[1;33m(\u001b[0m\u001b[0me\u001b[0m\u001b[1;33m,\u001b[0m \u001b[1;34m\"ag_error_metadata\"\u001b[0m\u001b[1;33m)\u001b[0m\u001b[1;33m:\u001b[0m\u001b[1;33m\u001b[0m\u001b[1;33m\u001b[0m\u001b[0m\n\u001b[1;32m--> 973\u001b[1;33m               \u001b[1;32mraise\u001b[0m \u001b[0me\u001b[0m\u001b[1;33m.\u001b[0m\u001b[0mag_error_metadata\u001b[0m\u001b[1;33m.\u001b[0m\u001b[0mto_exception\u001b[0m\u001b[1;33m(\u001b[0m\u001b[0me\u001b[0m\u001b[1;33m)\u001b[0m\u001b[1;33m\u001b[0m\u001b[1;33m\u001b[0m\u001b[0m\n\u001b[0m\u001b[0;32m    974\u001b[0m             \u001b[1;32melse\u001b[0m\u001b[1;33m:\u001b[0m\u001b[1;33m\u001b[0m\u001b[1;33m\u001b[0m\u001b[0m\n\u001b[0;32m    975\u001b[0m               \u001b[1;32mraise\u001b[0m\u001b[1;33m\u001b[0m\u001b[1;33m\u001b[0m\u001b[0m\n",
      "\u001b[1;31mValueError\u001b[0m: in user code:\n\n    C:\\Users\\Niek\\AppData\\Local\\Programs\\Python\\Python38\\lib\\site-packages\\tensorflow\\python\\keras\\engine\\training.py:1462 predict_function  *\n        return step_function(self, iterator)\n    C:\\Users\\Niek\\AppData\\Local\\Programs\\Python\\Python38\\lib\\site-packages\\tensorflow\\python\\keras\\engine\\training.py:1452 step_function  **\n        outputs = model.distribute_strategy.run(run_step, args=(data,))\n    C:\\Users\\Niek\\AppData\\Local\\Programs\\Python\\Python38\\lib\\site-packages\\tensorflow\\python\\distribute\\distribute_lib.py:1211 run\n        return self._extended.call_for_each_replica(fn, args=args, kwargs=kwargs)\n    C:\\Users\\Niek\\AppData\\Local\\Programs\\Python\\Python38\\lib\\site-packages\\tensorflow\\python\\distribute\\distribute_lib.py:2585 call_for_each_replica\n        return self._call_for_each_replica(fn, args, kwargs)\n    C:\\Users\\Niek\\AppData\\Local\\Programs\\Python\\Python38\\lib\\site-packages\\tensorflow\\python\\distribute\\distribute_lib.py:2945 _call_for_each_replica\n        return fn(*args, **kwargs)\n    C:\\Users\\Niek\\AppData\\Local\\Programs\\Python\\Python38\\lib\\site-packages\\tensorflow\\python\\keras\\engine\\training.py:1445 run_step  **\n        outputs = model.predict_step(data)\n    C:\\Users\\Niek\\AppData\\Local\\Programs\\Python\\Python38\\lib\\site-packages\\tensorflow\\python\\keras\\engine\\training.py:1418 predict_step\n        return self(x, training=False)\n    C:\\Users\\Niek\\AppData\\Local\\Programs\\Python\\Python38\\lib\\site-packages\\tensorflow\\python\\keras\\engine\\base_layer.py:975 __call__\n        input_spec.assert_input_compatibility(self.input_spec, inputs,\n    C:\\Users\\Niek\\AppData\\Local\\Programs\\Python\\Python38\\lib\\site-packages\\tensorflow\\python\\keras\\engine\\input_spec.py:176 assert_input_compatibility\n        raise ValueError('Input ' + str(input_index) + ' of layer ' +\n\n    ValueError: Input 0 of layer sequential_2 is incompatible with the layer: expected ndim=3, found ndim=2. Full shape received: [None, 1]\n"
     ]
    }
   ],
   "source": [
    "prediction = model_adam.predict([6,5,4,3,4,3,3,3,3,3,2,1,1,2,3])\n",
    "prediction_a = model.predict(test_generator)\n",
    "\n",
    "parking_test = parking_test.reshape((-1))\n",
    "prediction = prediction.reshape((-1))\n",
    "\n",
    "plt.plot(date_test[:200], prediction[8:208], label='prediction rmspop')\n",
    "# plt.plot(date_test[:150], prediction_a[:150], label='prediction adam')\n",
    "plt.plot(date_test[:200], parking_test[:200], label='actual')\n",
    "plt.xticks(rotation=45)\n",
    "plt.legend()\n",
    "plt.show()"
   ]
  },
  {
   "cell_type": "code",
   "execution_count": null,
   "metadata": {},
   "outputs": [],
   "source": []
  }
 ]
}