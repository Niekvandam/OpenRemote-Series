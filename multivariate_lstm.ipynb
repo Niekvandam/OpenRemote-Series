{
 "metadata": {
  "language_info": {
   "codemirror_mode": {
    "name": "ipython",
    "version": 3
   },
   "file_extension": ".py",
   "mimetype": "text/x-python",
   "name": "python",
   "nbconvert_exporter": "python",
   "pygments_lexer": "ipython3",
   "version": "3.8.0"
  },
  "orig_nbformat": 2,
  "kernelspec": {
   "name": "python380jvsc74a57bd02fbc2e777c71b3ad65a927b7c1adf8f45ce158b28d79f2f4d54933a8f69a15e3",
   "display_name": "Python 3.8.0 64-bit"
  },
  "metadata": {
   "interpreter": {
    "hash": "2fbc2e777c71b3ad65a927b7c1adf8f45ce158b28d79f2f4d54933a8f69a15e3"
   }
  }
 },
 "nbformat": 4,
 "nbformat_minor": 2,
 "cells": [
  {
   "cell_type": "code",
   "execution_count": 1,
   "metadata": {},
   "outputs": [],
   "source": [
    "import pandas as pd\n",
    "import numpy as np\n",
    "import datetime\n",
    "import math\n",
    "import time\n",
    "\n",
    "from numpy import array\n",
    "from pandas import DataFrame, read_csv, concat\n",
    "from keras import Sequential\n",
    "from keras.layers import Dense, LSTM\n",
    "from sklearn.preprocessing import MinMaxScaler\n"
   ]
  },
  {
   "cell_type": "code",
   "execution_count": 2,
   "metadata": {},
   "outputs": [
    {
     "output_type": "execute_result",
     "data": {
      "text/plain": [
       "                                       timestamp                  name  value  \\\n",
       "date                                                                            \n",
       "2021-04-18 05:03:14.376  2021-04-18 05:03:14.376  Philitelaan Videolab    3.0   \n",
       "2021-04-18 05:04:16.815  2021-04-18 05:04:16.815  Philitelaan Videolab    3.0   \n",
       "2021-04-23 04:20:38.034  2021-04-23 04:20:38.034  Philitelaan Videolab    5.0   \n",
       "2021-04-23 04:21:42.956  2021-04-23 04:21:42.956  Philitelaan Videolab    5.0   \n",
       "2021-04-18 05:05:27.871  2021-04-18 05:05:27.871  Philitelaan Videolab    3.0   \n",
       "...                                          ...                   ...    ...   \n",
       "2021-05-02 04:57:04.904  2021-05-02 04:57:04.904  Philitelaan Videolab    4.0   \n",
       "2021-05-02 04:58:08.602  2021-05-02 04:58:08.602  Philitelaan Videolab    4.0   \n",
       "2021-05-02 04:59:08.637  2021-05-02 04:59:08.637  Philitelaan Videolab    4.0   \n",
       "2021-05-02 05:00:11.026  2021-05-02 05:00:11.026  Philitelaan Videolab    4.0   \n",
       "2021-05-02 05:01:18.895  2021-05-02 05:01:18.895  Philitelaan Videolab    4.0   \n",
       "\n",
       "                                       datetime  \n",
       "date                                             \n",
       "2021-04-18 05:03:14.376 2021-04-18 05:03:14.376  \n",
       "2021-04-18 05:04:16.815 2021-04-18 05:04:16.815  \n",
       "2021-04-23 04:20:38.034 2021-04-23 04:20:38.034  \n",
       "2021-04-23 04:21:42.956 2021-04-23 04:21:42.956  \n",
       "2021-04-18 05:05:27.871 2021-04-18 05:05:27.871  \n",
       "...                                         ...  \n",
       "2021-05-02 04:57:04.904 2021-05-02 04:57:04.904  \n",
       "2021-05-02 04:58:08.602 2021-05-02 04:58:08.602  \n",
       "2021-05-02 04:59:08.637 2021-05-02 04:59:08.637  \n",
       "2021-05-02 05:00:11.026 2021-05-02 05:00:11.026  \n",
       "2021-05-02 05:01:18.895 2021-05-02 05:01:18.895  \n",
       "\n",
       "[38965 rows x 4 columns]"
      ],
      "text/html": "<div>\n<style scoped>\n    .dataframe tbody tr th:only-of-type {\n        vertical-align: middle;\n    }\n\n    .dataframe tbody tr th {\n        vertical-align: top;\n    }\n\n    .dataframe thead th {\n        text-align: right;\n    }\n</style>\n<table border=\"1\" class=\"dataframe\">\n  <thead>\n    <tr style=\"text-align: right;\">\n      <th></th>\n      <th>timestamp</th>\n      <th>name</th>\n      <th>value</th>\n      <th>datetime</th>\n    </tr>\n    <tr>\n      <th>date</th>\n      <th></th>\n      <th></th>\n      <th></th>\n      <th></th>\n    </tr>\n  </thead>\n  <tbody>\n    <tr>\n      <th>2021-04-18 05:03:14.376</th>\n      <td>2021-04-18 05:03:14.376</td>\n      <td>Philitelaan Videolab</td>\n      <td>3.0</td>\n      <td>2021-04-18 05:03:14.376</td>\n    </tr>\n    <tr>\n      <th>2021-04-18 05:04:16.815</th>\n      <td>2021-04-18 05:04:16.815</td>\n      <td>Philitelaan Videolab</td>\n      <td>3.0</td>\n      <td>2021-04-18 05:04:16.815</td>\n    </tr>\n    <tr>\n      <th>2021-04-23 04:20:38.034</th>\n      <td>2021-04-23 04:20:38.034</td>\n      <td>Philitelaan Videolab</td>\n      <td>5.0</td>\n      <td>2021-04-23 04:20:38.034</td>\n    </tr>\n    <tr>\n      <th>2021-04-23 04:21:42.956</th>\n      <td>2021-04-23 04:21:42.956</td>\n      <td>Philitelaan Videolab</td>\n      <td>5.0</td>\n      <td>2021-04-23 04:21:42.956</td>\n    </tr>\n    <tr>\n      <th>2021-04-18 05:05:27.871</th>\n      <td>2021-04-18 05:05:27.871</td>\n      <td>Philitelaan Videolab</td>\n      <td>3.0</td>\n      <td>2021-04-18 05:05:27.871</td>\n    </tr>\n    <tr>\n      <th>...</th>\n      <td>...</td>\n      <td>...</td>\n      <td>...</td>\n      <td>...</td>\n    </tr>\n    <tr>\n      <th>2021-05-02 04:57:04.904</th>\n      <td>2021-05-02 04:57:04.904</td>\n      <td>Philitelaan Videolab</td>\n      <td>4.0</td>\n      <td>2021-05-02 04:57:04.904</td>\n    </tr>\n    <tr>\n      <th>2021-05-02 04:58:08.602</th>\n      <td>2021-05-02 04:58:08.602</td>\n      <td>Philitelaan Videolab</td>\n      <td>4.0</td>\n      <td>2021-05-02 04:58:08.602</td>\n    </tr>\n    <tr>\n      <th>2021-05-02 04:59:08.637</th>\n      <td>2021-05-02 04:59:08.637</td>\n      <td>Philitelaan Videolab</td>\n      <td>4.0</td>\n      <td>2021-05-02 04:59:08.637</td>\n    </tr>\n    <tr>\n      <th>2021-05-02 05:00:11.026</th>\n      <td>2021-05-02 05:00:11.026</td>\n      <td>Philitelaan Videolab</td>\n      <td>4.0</td>\n      <td>2021-05-02 05:00:11.026</td>\n    </tr>\n    <tr>\n      <th>2021-05-02 05:01:18.895</th>\n      <td>2021-05-02 05:01:18.895</td>\n      <td>Philitelaan Videolab</td>\n      <td>4.0</td>\n      <td>2021-05-02 05:01:18.895</td>\n    </tr>\n  </tbody>\n</table>\n<p>38965 rows × 4 columns</p>\n</div>"
     },
     "metadata": {},
     "execution_count": 2
    }
   ],
   "source": [
    "df = pd.read_csv('datapoints.csv')\n",
    "df['date'] = pd.to_datetime(df['timestamp'], format='%Y-%m-%d %H:%M:%S')\n",
    "df = df.set_index(pd.DatetimeIndex(df['date']))\n",
    "df.drop(['attribute_name', 'date'], axis=1, inplace=True)\n",
    "df[\"datetime\"] = df.index \n",
    "\n",
    "mask = df.name.str.contains(\"BLOK61\")\n",
    "df_blok = df[mask]\n",
    "df_videolab = df[~mask]\n",
    "df_videolab_filtered = df_videolab[\"value\"].to_numpy()\n",
    "\n",
    "df_videolab\n"
   ]
  },
  {
   "cell_type": "code",
   "execution_count": 3,
   "metadata": {
    "tags": []
   },
   "outputs": [],
   "source": [
    "df_videolab = df_videolab.resample(rule='15T', closed='left', label='left').mean().apply(np.ceil)\n"
   ]
  },
  {
   "cell_type": "code",
   "execution_count": 4,
   "metadata": {
    "tags": []
   },
   "outputs": [
    {
     "output_type": "execute_result",
     "data": {
      "text/plain": [
       "                     var1(t-1)  var1(t)  var1(t+1)  var1(t+2)  var1(t+3)\n",
       "date                                                                    \n",
       "2021-04-05 02:15:00        3.0      3.0        3.0        3.0        3.0\n",
       "2021-04-05 02:30:00        3.0      3.0        3.0        3.0        3.0\n",
       "2021-04-05 02:45:00        3.0      3.0        3.0        3.0        3.0\n",
       "2021-04-05 03:00:00        3.0      3.0        3.0        3.0        3.0\n",
       "2021-04-05 03:15:00        3.0      3.0        3.0        3.0        3.0\n",
       "...                        ...      ...        ...        ...        ...\n",
       "2021-05-06 14:45:00       11.0     11.0       11.0       10.0        8.0\n",
       "2021-05-06 15:00:00       11.0     11.0       10.0        8.0        7.0\n",
       "2021-05-06 15:15:00       11.0     10.0        8.0        7.0        7.0\n",
       "2021-05-06 15:30:00       10.0      8.0        7.0        7.0        8.0\n",
       "2021-05-06 15:45:00        8.0      7.0        7.0        8.0        7.0\n",
       "\n",
       "[2927 rows x 5 columns]"
      ],
      "text/html": "<div>\n<style scoped>\n    .dataframe tbody tr th:only-of-type {\n        vertical-align: middle;\n    }\n\n    .dataframe tbody tr th {\n        vertical-align: top;\n    }\n\n    .dataframe thead th {\n        text-align: right;\n    }\n</style>\n<table border=\"1\" class=\"dataframe\">\n  <thead>\n    <tr style=\"text-align: right;\">\n      <th></th>\n      <th>var1(t-1)</th>\n      <th>var1(t)</th>\n      <th>var1(t+1)</th>\n      <th>var1(t+2)</th>\n      <th>var1(t+3)</th>\n    </tr>\n    <tr>\n      <th>date</th>\n      <th></th>\n      <th></th>\n      <th></th>\n      <th></th>\n      <th></th>\n    </tr>\n  </thead>\n  <tbody>\n    <tr>\n      <th>2021-04-05 02:15:00</th>\n      <td>3.0</td>\n      <td>3.0</td>\n      <td>3.0</td>\n      <td>3.0</td>\n      <td>3.0</td>\n    </tr>\n    <tr>\n      <th>2021-04-05 02:30:00</th>\n      <td>3.0</td>\n      <td>3.0</td>\n      <td>3.0</td>\n      <td>3.0</td>\n      <td>3.0</td>\n    </tr>\n    <tr>\n      <th>2021-04-05 02:45:00</th>\n      <td>3.0</td>\n      <td>3.0</td>\n      <td>3.0</td>\n      <td>3.0</td>\n      <td>3.0</td>\n    </tr>\n    <tr>\n      <th>2021-04-05 03:00:00</th>\n      <td>3.0</td>\n      <td>3.0</td>\n      <td>3.0</td>\n      <td>3.0</td>\n      <td>3.0</td>\n    </tr>\n    <tr>\n      <th>2021-04-05 03:15:00</th>\n      <td>3.0</td>\n      <td>3.0</td>\n      <td>3.0</td>\n      <td>3.0</td>\n      <td>3.0</td>\n    </tr>\n    <tr>\n      <th>...</th>\n      <td>...</td>\n      <td>...</td>\n      <td>...</td>\n      <td>...</td>\n      <td>...</td>\n    </tr>\n    <tr>\n      <th>2021-05-06 14:45:00</th>\n      <td>11.0</td>\n      <td>11.0</td>\n      <td>11.0</td>\n      <td>10.0</td>\n      <td>8.0</td>\n    </tr>\n    <tr>\n      <th>2021-05-06 15:00:00</th>\n      <td>11.0</td>\n      <td>11.0</td>\n      <td>10.0</td>\n      <td>8.0</td>\n      <td>7.0</td>\n    </tr>\n    <tr>\n      <th>2021-05-06 15:15:00</th>\n      <td>11.0</td>\n      <td>10.0</td>\n      <td>8.0</td>\n      <td>7.0</td>\n      <td>7.0</td>\n    </tr>\n    <tr>\n      <th>2021-05-06 15:30:00</th>\n      <td>10.0</td>\n      <td>8.0</td>\n      <td>7.0</td>\n      <td>7.0</td>\n      <td>8.0</td>\n    </tr>\n    <tr>\n      <th>2021-05-06 15:45:00</th>\n      <td>8.0</td>\n      <td>7.0</td>\n      <td>7.0</td>\n      <td>8.0</td>\n      <td>7.0</td>\n    </tr>\n  </tbody>\n</table>\n<p>2927 rows × 5 columns</p>\n</div>"
     },
     "metadata": {},
     "execution_count": 4
    }
   ],
   "source": [
    "def series_to_supervised(data, n_in=1, n_out=1, dropnan=True):\n",
    "    n_vars = 1 if type(data) is list else data.shape[1]\n",
    "    df = DataFrame(data)\n",
    "    cols, names = list(), list()\n",
    "\t# input sequence (t-n, ... t-1)\n",
    "    for i in range(n_in, 0, -1):\n",
    "        cols.append(df.shift(i))\n",
    "        names += [('var%d(t-%d)' % (j+1, i)) for j in range(n_vars)]\n",
    "\t# forecast sequence (t, t+1, ... t+n)\n",
    "    for i in range(0, n_out):\n",
    "        cols.append(df.shift(-i))\n",
    "        if i == 0:\n",
    "            names += [('var%d(t)' % (j+1)) for j in range(n_vars)]\n",
    "        else:\n",
    "            names += [('var%d(t+%d)' % (j+1, i)) for j in range(n_vars)]\n",
    "\t# put it all together\n",
    "    agg = concat(cols, axis=1)\n",
    "    agg.columns = names\n",
    "\t# drop rows with NaN values\n",
    "    if dropnan:\n",
    "        agg.dropna(inplace=True)\n",
    "    return agg\n",
    "\n",
    "df_videolab = series_to_supervised(df_videolab, n_out=4)\n",
    "\n",
    "df_videolab\n"
   ]
  },
  {
   "cell_type": "code",
   "execution_count": 5,
   "metadata": {},
   "outputs": [],
   "source": [
    "values = df_videolab.values"
   ]
  },
  {
   "cell_type": "code",
   "execution_count": 6,
   "metadata": {},
   "outputs": [
    {
     "output_type": "error",
     "ename": "NameError",
     "evalue": "name 'train_X' is not defined",
     "traceback": [
      "\u001b[1;31m---------------------------------------------------------------------------\u001b[0m",
      "\u001b[1;31mNameError\u001b[0m                                 Traceback (most recent call last)",
      "\u001b[1;32m<ipython-input-6-4b7c6428e8ab>\u001b[0m in \u001b[0;36m<module>\u001b[1;34m\u001b[0m\n\u001b[0;32m      2\u001b[0m \u001b[1;31m# design network\u001b[0m\u001b[1;33m\u001b[0m\u001b[1;33m\u001b[0m\u001b[1;33m\u001b[0m\u001b[0m\n\u001b[0;32m      3\u001b[0m \u001b[0mmodel\u001b[0m \u001b[1;33m=\u001b[0m \u001b[0mSequential\u001b[0m\u001b[1;33m(\u001b[0m\u001b[1;33m)\u001b[0m\u001b[1;33m\u001b[0m\u001b[1;33m\u001b[0m\u001b[0m\n\u001b[1;32m----> 4\u001b[1;33m \u001b[0mmodel\u001b[0m\u001b[1;33m.\u001b[0m\u001b[0madd\u001b[0m\u001b[1;33m(\u001b[0m\u001b[0mLSTM\u001b[0m\u001b[1;33m(\u001b[0m\u001b[1;36m50\u001b[0m\u001b[1;33m,\u001b[0m \u001b[0minput_shape\u001b[0m\u001b[1;33m=\u001b[0m\u001b[1;33m(\u001b[0m\u001b[0mtrain_X\u001b[0m\u001b[1;33m.\u001b[0m\u001b[0mshape\u001b[0m\u001b[1;33m[\u001b[0m\u001b[1;36m1\u001b[0m\u001b[1;33m]\u001b[0m\u001b[1;33m,\u001b[0m \u001b[0mtrain_X\u001b[0m\u001b[1;33m.\u001b[0m\u001b[0mshape\u001b[0m\u001b[1;33m[\u001b[0m\u001b[1;36m2\u001b[0m\u001b[1;33m]\u001b[0m\u001b[1;33m)\u001b[0m\u001b[1;33m)\u001b[0m\u001b[1;33m)\u001b[0m\u001b[1;33m\u001b[0m\u001b[1;33m\u001b[0m\u001b[0m\n\u001b[0m\u001b[0;32m      5\u001b[0m \u001b[0mmodel\u001b[0m\u001b[1;33m.\u001b[0m\u001b[0madd\u001b[0m\u001b[1;33m(\u001b[0m\u001b[0mDense\u001b[0m\u001b[1;33m(\u001b[0m\u001b[1;36m1\u001b[0m\u001b[1;33m)\u001b[0m\u001b[1;33m)\u001b[0m\u001b[1;33m\u001b[0m\u001b[1;33m\u001b[0m\u001b[0m\n\u001b[0;32m      6\u001b[0m \u001b[0mmodel\u001b[0m\u001b[1;33m.\u001b[0m\u001b[0mcompile\u001b[0m\u001b[1;33m(\u001b[0m\u001b[0mloss\u001b[0m\u001b[1;33m=\u001b[0m\u001b[1;34m'mae'\u001b[0m\u001b[1;33m,\u001b[0m \u001b[0moptimizer\u001b[0m\u001b[1;33m=\u001b[0m\u001b[1;34m'adam'\u001b[0m\u001b[1;33m)\u001b[0m\u001b[1;33m\u001b[0m\u001b[1;33m\u001b[0m\u001b[0m\n",
      "\u001b[1;31mNameError\u001b[0m: name 'train_X' is not defined"
     ]
    }
   ],
   "source": [
    "...\n",
    "# design network\n",
    "model = Sequential()\n",
    "model.add(LSTM(50, input_shape=(train_X.shape[1], train_X.shape[2])))\n",
    "model.add(Dense(1))\n",
    "model.compile(loss='mae', optimizer='adam')\n",
    "# fit network\n",
    "history = model.fit(train_X, train_y, epochs=50, batch_size=72, validation_data=(test_X, test_y), verbose=2, shuffle=False)\n",
    "# plot history\n",
    "pyplot.plot(history.history['loss'], label='train')\n",
    "pyplot.plot(history.history['val_loss'], label='test')\n",
    "pyplot.legend()\n",
    "pyplot.show()\n",
    "\n"
   ]
  },
  {
   "cell_type": "code",
   "execution_count": 66,
   "metadata": {},
   "outputs": [
    {
     "output_type": "error",
     "ename": "UnboundLocalError",
     "evalue": "local variable 'batch_outputs' referenced before assignment",
     "traceback": [
      "\u001b[1;31m---------------------------------------------------------------------------\u001b[0m",
      "\u001b[1;31mUnboundLocalError\u001b[0m                         Traceback (most recent call last)",
      "\u001b[1;32m<ipython-input-66-2243fa13119e>\u001b[0m in \u001b[0;36m<module>\u001b[1;34m\u001b[0m\n\u001b[0;32m      1\u001b[0m \u001b[1;31m# make a prediction\u001b[0m\u001b[1;33m\u001b[0m\u001b[1;33m\u001b[0m\u001b[1;33m\u001b[0m\u001b[0m\n\u001b[1;32m----> 2\u001b[1;33m \u001b[0myhat\u001b[0m \u001b[1;33m=\u001b[0m \u001b[0mmodel\u001b[0m\u001b[1;33m.\u001b[0m\u001b[0mpredict\u001b[0m\u001b[1;33m(\u001b[0m\u001b[0mtest_X\u001b[0m\u001b[1;33m)\u001b[0m\u001b[1;33m\u001b[0m\u001b[1;33m\u001b[0m\u001b[0m\n\u001b[0m\u001b[0;32m      3\u001b[0m \u001b[0mtest_X\u001b[0m \u001b[1;33m=\u001b[0m \u001b[0mtest_X\u001b[0m\u001b[1;33m.\u001b[0m\u001b[0mreshape\u001b[0m\u001b[1;33m(\u001b[0m\u001b[1;33m(\u001b[0m\u001b[0mtest_X\u001b[0m\u001b[1;33m.\u001b[0m\u001b[0mshape\u001b[0m\u001b[1;33m[\u001b[0m\u001b[1;36m0\u001b[0m\u001b[1;33m]\u001b[0m\u001b[1;33m,\u001b[0m \u001b[0mtest_X\u001b[0m\u001b[1;33m.\u001b[0m\u001b[0mshape\u001b[0m\u001b[1;33m[\u001b[0m\u001b[1;36m2\u001b[0m\u001b[1;33m]\u001b[0m\u001b[1;33m)\u001b[0m\u001b[1;33m)\u001b[0m\u001b[1;33m\u001b[0m\u001b[1;33m\u001b[0m\u001b[0m\n\u001b[0;32m      4\u001b[0m \u001b[1;31m# invert scaling for forecast\u001b[0m\u001b[1;33m\u001b[0m\u001b[1;33m\u001b[0m\u001b[1;33m\u001b[0m\u001b[0m\n\u001b[0;32m      5\u001b[0m \u001b[0minv_yhat\u001b[0m \u001b[1;33m=\u001b[0m \u001b[0mconcatenate\u001b[0m\u001b[1;33m(\u001b[0m\u001b[1;33m(\u001b[0m\u001b[0myhat\u001b[0m\u001b[1;33m,\u001b[0m \u001b[0mtest_X\u001b[0m\u001b[1;33m[\u001b[0m\u001b[1;33m:\u001b[0m\u001b[1;33m,\u001b[0m \u001b[1;36m1\u001b[0m\u001b[1;33m:\u001b[0m\u001b[1;33m]\u001b[0m\u001b[1;33m)\u001b[0m\u001b[1;33m,\u001b[0m \u001b[0maxis\u001b[0m\u001b[1;33m=\u001b[0m\u001b[1;36m1\u001b[0m\u001b[1;33m)\u001b[0m\u001b[1;33m\u001b[0m\u001b[1;33m\u001b[0m\u001b[0m\n",
      "\u001b[1;32m~\\AppData\\Local\\Programs\\Python\\Python38\\lib\\site-packages\\tensorflow\\python\\keras\\engine\\training.py\u001b[0m in \u001b[0;36m_method_wrapper\u001b[1;34m(self, *args, **kwargs)\u001b[0m\n\u001b[0;32m    128\u001b[0m       raise ValueError('{} is not supported in multi-worker mode.'.format(\n\u001b[0;32m    129\u001b[0m           method.__name__))\n\u001b[1;32m--> 130\u001b[1;33m     \u001b[1;32mreturn\u001b[0m \u001b[0mmethod\u001b[0m\u001b[1;33m(\u001b[0m\u001b[0mself\u001b[0m\u001b[1;33m,\u001b[0m \u001b[1;33m*\u001b[0m\u001b[0margs\u001b[0m\u001b[1;33m,\u001b[0m \u001b[1;33m**\u001b[0m\u001b[0mkwargs\u001b[0m\u001b[1;33m)\u001b[0m\u001b[1;33m\u001b[0m\u001b[1;33m\u001b[0m\u001b[0m\n\u001b[0m\u001b[0;32m    131\u001b[0m \u001b[1;33m\u001b[0m\u001b[0m\n\u001b[0;32m    132\u001b[0m   return tf_decorator.make_decorator(\n",
      "\u001b[1;32m~\\AppData\\Local\\Programs\\Python\\Python38\\lib\\site-packages\\tensorflow\\python\\keras\\engine\\training.py\u001b[0m in \u001b[0;36mpredict\u001b[1;34m(self, x, batch_size, verbose, steps, callbacks, max_queue_size, workers, use_multiprocessing)\u001b[0m\n\u001b[0;32m   1612\u001b[0m             \u001b[0mcallbacks\u001b[0m\u001b[1;33m.\u001b[0m\u001b[0mon_predict_batch_end\u001b[0m\u001b[1;33m(\u001b[0m\u001b[0mend_step\u001b[0m\u001b[1;33m,\u001b[0m \u001b[1;33m{\u001b[0m\u001b[1;34m'outputs'\u001b[0m\u001b[1;33m:\u001b[0m \u001b[0mbatch_outputs\u001b[0m\u001b[1;33m}\u001b[0m\u001b[1;33m)\u001b[0m\u001b[1;33m\u001b[0m\u001b[1;33m\u001b[0m\u001b[0m\n\u001b[0;32m   1613\u001b[0m       \u001b[0mcallbacks\u001b[0m\u001b[1;33m.\u001b[0m\u001b[0mon_predict_end\u001b[0m\u001b[1;33m(\u001b[0m\u001b[1;33m)\u001b[0m\u001b[1;33m\u001b[0m\u001b[1;33m\u001b[0m\u001b[0m\n\u001b[1;32m-> 1614\u001b[1;33m     \u001b[0mall_outputs\u001b[0m \u001b[1;33m=\u001b[0m \u001b[0mnest\u001b[0m\u001b[1;33m.\u001b[0m\u001b[0mmap_structure_up_to\u001b[0m\u001b[1;33m(\u001b[0m\u001b[0mbatch_outputs\u001b[0m\u001b[1;33m,\u001b[0m \u001b[0mconcat\u001b[0m\u001b[1;33m,\u001b[0m \u001b[0moutputs\u001b[0m\u001b[1;33m)\u001b[0m\u001b[1;33m\u001b[0m\u001b[1;33m\u001b[0m\u001b[0m\n\u001b[0m\u001b[0;32m   1615\u001b[0m     \u001b[1;32mreturn\u001b[0m \u001b[0mtf_utils\u001b[0m\u001b[1;33m.\u001b[0m\u001b[0mto_numpy_or_python_type\u001b[0m\u001b[1;33m(\u001b[0m\u001b[0mall_outputs\u001b[0m\u001b[1;33m)\u001b[0m\u001b[1;33m\u001b[0m\u001b[1;33m\u001b[0m\u001b[0m\n\u001b[0;32m   1616\u001b[0m \u001b[1;33m\u001b[0m\u001b[0m\n",
      "\u001b[1;31mUnboundLocalError\u001b[0m: local variable 'batch_outputs' referenced before assignment"
     ]
    }
   ],
   "source": [
    "# make a prediction\n",
    "yhat = model.predict(test_X)\n",
    "test_X = test_X.reshape((test_X.shape[0], test_X.shape[2]))\n",
    "# invert scaling for forecast\n",
    "inv_yhat = concatenate((yhat, test_X[:, 1:]), axis=1)\n",
    "inv_yhat = scaler.inverse_transform(inv_yhat)\n",
    "inv_yhat = inv_yhat[:,0]\n",
    "# invert scaling for actual\n",
    "test_y = test_y.reshape((len(test_y), 1))\n",
    "inv_y = concatenate((test_y, test_X[:, 1:]), axis=1)\n",
    "inv_y = scaler.inverse_transform(inv_y)\n",
    "inv_y = inv_y[:,0]\n",
    "# calculate RMSE\n",
    "rmse = sqrt(mean_squared_error(inv_y, inv_yhat))\n",
    "print('Test RMSE: %.3f' % rmse)"
   ]
  },
  {
   "cell_type": "code",
   "execution_count": null,
   "metadata": {},
   "outputs": [],
   "source": []
  }
 ]
}